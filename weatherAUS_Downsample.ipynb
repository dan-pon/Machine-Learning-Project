{
 "cells": [
  {
   "cell_type": "code",
   "execution_count": 1,
   "id": "d2588f53",
   "metadata": {
    "executionInfo": {
     "elapsed": 429,
     "status": "ok",
     "timestamp": 1637819332513,
     "user": {
      "displayName": "Daniel Pong",
      "photoUrl": "https://lh3.googleusercontent.com/a/default-user=s64",
      "userId": "03877663975026177201"
     },
     "user_tz": -480
    },
    "id": "d2588f53"
   },
   "outputs": [],
   "source": [
    "import pandas as pd\n",
    "import numpy as np"
   ]
  },
  {
   "cell_type": "code",
   "execution_count": 2,
   "id": "f1ca1763",
   "metadata": {
    "colab": {
     "base_uri": "https://localhost:8080/",
     "height": 617
    },
    "executionInfo": {
     "elapsed": 1675,
     "status": "ok",
     "timestamp": 1637819459017,
     "user": {
      "displayName": "Daniel Pong",
      "photoUrl": "https://lh3.googleusercontent.com/a/default-user=s64",
      "userId": "03877663975026177201"
     },
     "user_tz": -480
    },
    "id": "f1ca1763",
    "outputId": "a4524236-34ce-47ef-90e0-75fe6e9773fc",
    "scrolled": false
   },
   "outputs": [
    {
     "data": {
      "text/html": [
       "<div>\n",
       "<style scoped>\n",
       "    .dataframe tbody tr th:only-of-type {\n",
       "        vertical-align: middle;\n",
       "    }\n",
       "\n",
       "    .dataframe tbody tr th {\n",
       "        vertical-align: top;\n",
       "    }\n",
       "\n",
       "    .dataframe thead th {\n",
       "        text-align: right;\n",
       "    }\n",
       "</style>\n",
       "<table border=\"1\" class=\"dataframe\">\n",
       "  <thead>\n",
       "    <tr style=\"text-align: right;\">\n",
       "      <th></th>\n",
       "      <th>Date</th>\n",
       "      <th>Location</th>\n",
       "      <th>MinTemp</th>\n",
       "      <th>MaxTemp</th>\n",
       "      <th>Rainfall</th>\n",
       "      <th>Evaporation</th>\n",
       "      <th>Sunshine</th>\n",
       "      <th>WindGustDir</th>\n",
       "      <th>WindGustSpeed</th>\n",
       "      <th>WindDir9am</th>\n",
       "      <th>...</th>\n",
       "      <th>Humidity9am</th>\n",
       "      <th>Humidity3pm</th>\n",
       "      <th>Pressure9am</th>\n",
       "      <th>Pressure3pm</th>\n",
       "      <th>Cloud9am</th>\n",
       "      <th>Cloud3pm</th>\n",
       "      <th>Temp9am</th>\n",
       "      <th>Temp3pm</th>\n",
       "      <th>RainToday</th>\n",
       "      <th>RainTomorrow</th>\n",
       "    </tr>\n",
       "  </thead>\n",
       "  <tbody>\n",
       "    <tr>\n",
       "      <th>0</th>\n",
       "      <td>2008-12-01</td>\n",
       "      <td>Albury</td>\n",
       "      <td>13.4</td>\n",
       "      <td>22.9</td>\n",
       "      <td>0.6</td>\n",
       "      <td>NaN</td>\n",
       "      <td>NaN</td>\n",
       "      <td>W</td>\n",
       "      <td>44.0</td>\n",
       "      <td>W</td>\n",
       "      <td>...</td>\n",
       "      <td>71.0</td>\n",
       "      <td>22.0</td>\n",
       "      <td>1007.7</td>\n",
       "      <td>1007.1</td>\n",
       "      <td>8.0</td>\n",
       "      <td>NaN</td>\n",
       "      <td>16.9</td>\n",
       "      <td>21.8</td>\n",
       "      <td>No</td>\n",
       "      <td>No</td>\n",
       "    </tr>\n",
       "    <tr>\n",
       "      <th>1</th>\n",
       "      <td>2008-12-02</td>\n",
       "      <td>Albury</td>\n",
       "      <td>7.4</td>\n",
       "      <td>25.1</td>\n",
       "      <td>0.0</td>\n",
       "      <td>NaN</td>\n",
       "      <td>NaN</td>\n",
       "      <td>WNW</td>\n",
       "      <td>44.0</td>\n",
       "      <td>NNW</td>\n",
       "      <td>...</td>\n",
       "      <td>44.0</td>\n",
       "      <td>25.0</td>\n",
       "      <td>1010.6</td>\n",
       "      <td>1007.8</td>\n",
       "      <td>NaN</td>\n",
       "      <td>NaN</td>\n",
       "      <td>17.2</td>\n",
       "      <td>24.3</td>\n",
       "      <td>No</td>\n",
       "      <td>No</td>\n",
       "    </tr>\n",
       "    <tr>\n",
       "      <th>2</th>\n",
       "      <td>2008-12-03</td>\n",
       "      <td>Albury</td>\n",
       "      <td>12.9</td>\n",
       "      <td>25.7</td>\n",
       "      <td>0.0</td>\n",
       "      <td>NaN</td>\n",
       "      <td>NaN</td>\n",
       "      <td>WSW</td>\n",
       "      <td>46.0</td>\n",
       "      <td>W</td>\n",
       "      <td>...</td>\n",
       "      <td>38.0</td>\n",
       "      <td>30.0</td>\n",
       "      <td>1007.6</td>\n",
       "      <td>1008.7</td>\n",
       "      <td>NaN</td>\n",
       "      <td>2.0</td>\n",
       "      <td>21.0</td>\n",
       "      <td>23.2</td>\n",
       "      <td>No</td>\n",
       "      <td>No</td>\n",
       "    </tr>\n",
       "    <tr>\n",
       "      <th>3</th>\n",
       "      <td>2008-12-04</td>\n",
       "      <td>Albury</td>\n",
       "      <td>9.2</td>\n",
       "      <td>28.0</td>\n",
       "      <td>0.0</td>\n",
       "      <td>NaN</td>\n",
       "      <td>NaN</td>\n",
       "      <td>NE</td>\n",
       "      <td>24.0</td>\n",
       "      <td>SE</td>\n",
       "      <td>...</td>\n",
       "      <td>45.0</td>\n",
       "      <td>16.0</td>\n",
       "      <td>1017.6</td>\n",
       "      <td>1012.8</td>\n",
       "      <td>NaN</td>\n",
       "      <td>NaN</td>\n",
       "      <td>18.1</td>\n",
       "      <td>26.5</td>\n",
       "      <td>No</td>\n",
       "      <td>No</td>\n",
       "    </tr>\n",
       "    <tr>\n",
       "      <th>4</th>\n",
       "      <td>2008-12-05</td>\n",
       "      <td>Albury</td>\n",
       "      <td>17.5</td>\n",
       "      <td>32.3</td>\n",
       "      <td>1.0</td>\n",
       "      <td>NaN</td>\n",
       "      <td>NaN</td>\n",
       "      <td>W</td>\n",
       "      <td>41.0</td>\n",
       "      <td>ENE</td>\n",
       "      <td>...</td>\n",
       "      <td>82.0</td>\n",
       "      <td>33.0</td>\n",
       "      <td>1010.8</td>\n",
       "      <td>1006.0</td>\n",
       "      <td>7.0</td>\n",
       "      <td>8.0</td>\n",
       "      <td>17.8</td>\n",
       "      <td>29.7</td>\n",
       "      <td>No</td>\n",
       "      <td>No</td>\n",
       "    </tr>\n",
       "    <tr>\n",
       "      <th>...</th>\n",
       "      <td>...</td>\n",
       "      <td>...</td>\n",
       "      <td>...</td>\n",
       "      <td>...</td>\n",
       "      <td>...</td>\n",
       "      <td>...</td>\n",
       "      <td>...</td>\n",
       "      <td>...</td>\n",
       "      <td>...</td>\n",
       "      <td>...</td>\n",
       "      <td>...</td>\n",
       "      <td>...</td>\n",
       "      <td>...</td>\n",
       "      <td>...</td>\n",
       "      <td>...</td>\n",
       "      <td>...</td>\n",
       "      <td>...</td>\n",
       "      <td>...</td>\n",
       "      <td>...</td>\n",
       "      <td>...</td>\n",
       "      <td>...</td>\n",
       "    </tr>\n",
       "    <tr>\n",
       "      <th>145455</th>\n",
       "      <td>2017-06-21</td>\n",
       "      <td>Uluru</td>\n",
       "      <td>2.8</td>\n",
       "      <td>23.4</td>\n",
       "      <td>0.0</td>\n",
       "      <td>NaN</td>\n",
       "      <td>NaN</td>\n",
       "      <td>E</td>\n",
       "      <td>31.0</td>\n",
       "      <td>SE</td>\n",
       "      <td>...</td>\n",
       "      <td>51.0</td>\n",
       "      <td>24.0</td>\n",
       "      <td>1024.6</td>\n",
       "      <td>1020.3</td>\n",
       "      <td>NaN</td>\n",
       "      <td>NaN</td>\n",
       "      <td>10.1</td>\n",
       "      <td>22.4</td>\n",
       "      <td>No</td>\n",
       "      <td>No</td>\n",
       "    </tr>\n",
       "    <tr>\n",
       "      <th>145456</th>\n",
       "      <td>2017-06-22</td>\n",
       "      <td>Uluru</td>\n",
       "      <td>3.6</td>\n",
       "      <td>25.3</td>\n",
       "      <td>0.0</td>\n",
       "      <td>NaN</td>\n",
       "      <td>NaN</td>\n",
       "      <td>NNW</td>\n",
       "      <td>22.0</td>\n",
       "      <td>SE</td>\n",
       "      <td>...</td>\n",
       "      <td>56.0</td>\n",
       "      <td>21.0</td>\n",
       "      <td>1023.5</td>\n",
       "      <td>1019.1</td>\n",
       "      <td>NaN</td>\n",
       "      <td>NaN</td>\n",
       "      <td>10.9</td>\n",
       "      <td>24.5</td>\n",
       "      <td>No</td>\n",
       "      <td>No</td>\n",
       "    </tr>\n",
       "    <tr>\n",
       "      <th>145457</th>\n",
       "      <td>2017-06-23</td>\n",
       "      <td>Uluru</td>\n",
       "      <td>5.4</td>\n",
       "      <td>26.9</td>\n",
       "      <td>0.0</td>\n",
       "      <td>NaN</td>\n",
       "      <td>NaN</td>\n",
       "      <td>N</td>\n",
       "      <td>37.0</td>\n",
       "      <td>SE</td>\n",
       "      <td>...</td>\n",
       "      <td>53.0</td>\n",
       "      <td>24.0</td>\n",
       "      <td>1021.0</td>\n",
       "      <td>1016.8</td>\n",
       "      <td>NaN</td>\n",
       "      <td>NaN</td>\n",
       "      <td>12.5</td>\n",
       "      <td>26.1</td>\n",
       "      <td>No</td>\n",
       "      <td>No</td>\n",
       "    </tr>\n",
       "    <tr>\n",
       "      <th>145458</th>\n",
       "      <td>2017-06-24</td>\n",
       "      <td>Uluru</td>\n",
       "      <td>7.8</td>\n",
       "      <td>27.0</td>\n",
       "      <td>0.0</td>\n",
       "      <td>NaN</td>\n",
       "      <td>NaN</td>\n",
       "      <td>SE</td>\n",
       "      <td>28.0</td>\n",
       "      <td>SSE</td>\n",
       "      <td>...</td>\n",
       "      <td>51.0</td>\n",
       "      <td>24.0</td>\n",
       "      <td>1019.4</td>\n",
       "      <td>1016.5</td>\n",
       "      <td>3.0</td>\n",
       "      <td>2.0</td>\n",
       "      <td>15.1</td>\n",
       "      <td>26.0</td>\n",
       "      <td>No</td>\n",
       "      <td>No</td>\n",
       "    </tr>\n",
       "    <tr>\n",
       "      <th>145459</th>\n",
       "      <td>2017-06-25</td>\n",
       "      <td>Uluru</td>\n",
       "      <td>14.9</td>\n",
       "      <td>NaN</td>\n",
       "      <td>0.0</td>\n",
       "      <td>NaN</td>\n",
       "      <td>NaN</td>\n",
       "      <td>NaN</td>\n",
       "      <td>NaN</td>\n",
       "      <td>ESE</td>\n",
       "      <td>...</td>\n",
       "      <td>62.0</td>\n",
       "      <td>36.0</td>\n",
       "      <td>1020.2</td>\n",
       "      <td>1017.9</td>\n",
       "      <td>8.0</td>\n",
       "      <td>8.0</td>\n",
       "      <td>15.0</td>\n",
       "      <td>20.9</td>\n",
       "      <td>No</td>\n",
       "      <td>NaN</td>\n",
       "    </tr>\n",
       "  </tbody>\n",
       "</table>\n",
       "<p>145460 rows × 23 columns</p>\n",
       "</div>"
      ],
      "text/plain": [
       "              Date Location  MinTemp  MaxTemp  Rainfall  Evaporation  \\\n",
       "0       2008-12-01   Albury     13.4     22.9       0.6          NaN   \n",
       "1       2008-12-02   Albury      7.4     25.1       0.0          NaN   \n",
       "2       2008-12-03   Albury     12.9     25.7       0.0          NaN   \n",
       "3       2008-12-04   Albury      9.2     28.0       0.0          NaN   \n",
       "4       2008-12-05   Albury     17.5     32.3       1.0          NaN   \n",
       "...            ...      ...      ...      ...       ...          ...   \n",
       "145455  2017-06-21    Uluru      2.8     23.4       0.0          NaN   \n",
       "145456  2017-06-22    Uluru      3.6     25.3       0.0          NaN   \n",
       "145457  2017-06-23    Uluru      5.4     26.9       0.0          NaN   \n",
       "145458  2017-06-24    Uluru      7.8     27.0       0.0          NaN   \n",
       "145459  2017-06-25    Uluru     14.9      NaN       0.0          NaN   \n",
       "\n",
       "        Sunshine WindGustDir  WindGustSpeed WindDir9am  ... Humidity9am  \\\n",
       "0            NaN           W           44.0          W  ...        71.0   \n",
       "1            NaN         WNW           44.0        NNW  ...        44.0   \n",
       "2            NaN         WSW           46.0          W  ...        38.0   \n",
       "3            NaN          NE           24.0         SE  ...        45.0   \n",
       "4            NaN           W           41.0        ENE  ...        82.0   \n",
       "...          ...         ...            ...        ...  ...         ...   \n",
       "145455       NaN           E           31.0         SE  ...        51.0   \n",
       "145456       NaN         NNW           22.0         SE  ...        56.0   \n",
       "145457       NaN           N           37.0         SE  ...        53.0   \n",
       "145458       NaN          SE           28.0        SSE  ...        51.0   \n",
       "145459       NaN         NaN            NaN        ESE  ...        62.0   \n",
       "\n",
       "        Humidity3pm  Pressure9am  Pressure3pm  Cloud9am  Cloud3pm  Temp9am  \\\n",
       "0              22.0       1007.7       1007.1       8.0       NaN     16.9   \n",
       "1              25.0       1010.6       1007.8       NaN       NaN     17.2   \n",
       "2              30.0       1007.6       1008.7       NaN       2.0     21.0   \n",
       "3              16.0       1017.6       1012.8       NaN       NaN     18.1   \n",
       "4              33.0       1010.8       1006.0       7.0       8.0     17.8   \n",
       "...             ...          ...          ...       ...       ...      ...   \n",
       "145455         24.0       1024.6       1020.3       NaN       NaN     10.1   \n",
       "145456         21.0       1023.5       1019.1       NaN       NaN     10.9   \n",
       "145457         24.0       1021.0       1016.8       NaN       NaN     12.5   \n",
       "145458         24.0       1019.4       1016.5       3.0       2.0     15.1   \n",
       "145459         36.0       1020.2       1017.9       8.0       8.0     15.0   \n",
       "\n",
       "        Temp3pm  RainToday  RainTomorrow  \n",
       "0          21.8         No            No  \n",
       "1          24.3         No            No  \n",
       "2          23.2         No            No  \n",
       "3          26.5         No            No  \n",
       "4          29.7         No            No  \n",
       "...         ...        ...           ...  \n",
       "145455     22.4         No            No  \n",
       "145456     24.5         No            No  \n",
       "145457     26.1         No            No  \n",
       "145458     26.0         No            No  \n",
       "145459     20.9         No           NaN  \n",
       "\n",
       "[145460 rows x 23 columns]"
      ]
     },
     "execution_count": 2,
     "metadata": {},
     "output_type": "execute_result"
    }
   ],
   "source": [
    "df = pd.read_csv('./weatherAUS.csv')\n",
    "df"
   ]
  },
  {
   "cell_type": "code",
   "execution_count": 5,
   "id": "VRN1LL7ilDQN",
   "metadata": {
    "colab": {
     "base_uri": "https://localhost:8080/"
    },
    "executionInfo": {
     "elapsed": 24500,
     "status": "ok",
     "timestamp": 1637819454329,
     "user": {
      "displayName": "Daniel Pong",
      "photoUrl": "https://lh3.googleusercontent.com/a/default-user=s64",
      "userId": "03877663975026177201"
     },
     "user_tz": -480
    },
    "id": "VRN1LL7ilDQN",
    "outputId": "93ef14a8-b0eb-4360-cfca-4a0437666bfb"
   },
   "outputs": [
    {
     "name": "stdout",
     "output_type": "stream",
     "text": [
      "Mounted at /content/drive\n"
     ]
    }
   ],
   "source": [
    "from google.colab import drive\n",
    "drive.mount('/content/drive')"
   ]
  },
  {
   "cell_type": "code",
   "execution_count": 3,
   "id": "d7406c54",
   "metadata": {
    "colab": {
     "base_uri": "https://localhost:8080/"
    },
    "executionInfo": {
     "elapsed": 308,
     "status": "ok",
     "timestamp": 1637819465531,
     "user": {
      "displayName": "Daniel Pong",
      "photoUrl": "https://lh3.googleusercontent.com/a/default-user=s64",
      "userId": "03877663975026177201"
     },
     "user_tz": -480
    },
    "id": "d7406c54",
    "outputId": "875ec4a3-77d3-464d-9f3f-2cf784ab900a"
   },
   "outputs": [
    {
     "name": "stdout",
     "output_type": "stream",
     "text": [
      "<class 'pandas.core.frame.DataFrame'>\n",
      "RangeIndex: 145460 entries, 0 to 145459\n",
      "Data columns (total 23 columns):\n",
      " #   Column         Non-Null Count   Dtype  \n",
      "---  ------         --------------   -----  \n",
      " 0   Date           145460 non-null  object \n",
      " 1   Location       145460 non-null  object \n",
      " 2   MinTemp        143975 non-null  float64\n",
      " 3   MaxTemp        144199 non-null  float64\n",
      " 4   Rainfall       142199 non-null  float64\n",
      " 5   Evaporation    82670 non-null   float64\n",
      " 6   Sunshine       75625 non-null   float64\n",
      " 7   WindGustDir    135134 non-null  object \n",
      " 8   WindGustSpeed  135197 non-null  float64\n",
      " 9   WindDir9am     134894 non-null  object \n",
      " 10  WindDir3pm     141232 non-null  object \n",
      " 11  WindSpeed9am   143693 non-null  float64\n",
      " 12  WindSpeed3pm   142398 non-null  float64\n",
      " 13  Humidity9am    142806 non-null  float64\n",
      " 14  Humidity3pm    140953 non-null  float64\n",
      " 15  Pressure9am    130395 non-null  float64\n",
      " 16  Pressure3pm    130432 non-null  float64\n",
      " 17  Cloud9am       89572 non-null   float64\n",
      " 18  Cloud3pm       86102 non-null   float64\n",
      " 19  Temp9am        143693 non-null  float64\n",
      " 20  Temp3pm        141851 non-null  float64\n",
      " 21  RainToday      142199 non-null  object \n",
      " 22  RainTomorrow   142193 non-null  object \n",
      "dtypes: float64(16), object(7)\n",
      "memory usage: 25.5+ MB\n"
     ]
    }
   ],
   "source": [
    "df.info()"
   ]
  },
  {
   "cell_type": "code",
   "execution_count": 4,
   "id": "84b0b8eb",
   "metadata": {
    "colab": {
     "base_uri": "https://localhost:8080/"
    },
    "executionInfo": {
     "elapsed": 322,
     "status": "ok",
     "timestamp": 1637819468348,
     "user": {
      "displayName": "Daniel Pong",
      "photoUrl": "https://lh3.googleusercontent.com/a/default-user=s64",
      "userId": "03877663975026177201"
     },
     "user_tz": -480
    },
    "id": "84b0b8eb",
    "outputId": "57738620-d050-4e1f-b751-5bbc05372d7a"
   },
   "outputs": [
    {
     "data": {
      "text/plain": [
       "(145460, 23)"
      ]
     },
     "execution_count": 4,
     "metadata": {},
     "output_type": "execute_result"
    }
   ],
   "source": [
    "df.shape"
   ]
  },
  {
   "cell_type": "code",
   "execution_count": 5,
   "id": "b53666ee",
   "metadata": {
    "colab": {
     "base_uri": "https://localhost:8080/"
    },
    "executionInfo": {
     "elapsed": 320,
     "status": "ok",
     "timestamp": 1637819470904,
     "user": {
      "displayName": "Daniel Pong",
      "photoUrl": "https://lh3.googleusercontent.com/a/default-user=s64",
      "userId": "03877663975026177201"
     },
     "user_tz": -480
    },
    "id": "b53666ee",
    "outputId": "435fe354-b42a-4ced-c2dd-c06300b9d735"
   },
   "outputs": [
    {
     "data": {
      "text/plain": [
       "Date                 0\n",
       "Location             0\n",
       "MinTemp           1485\n",
       "MaxTemp           1261\n",
       "Rainfall          3261\n",
       "Evaporation      62790\n",
       "Sunshine         69835\n",
       "WindGustDir      10326\n",
       "WindGustSpeed    10263\n",
       "WindDir9am       10566\n",
       "WindDir3pm        4228\n",
       "WindSpeed9am      1767\n",
       "WindSpeed3pm      3062\n",
       "Humidity9am       2654\n",
       "Humidity3pm       4507\n",
       "Pressure9am      15065\n",
       "Pressure3pm      15028\n",
       "Cloud9am         55888\n",
       "Cloud3pm         59358\n",
       "Temp9am           1767\n",
       "Temp3pm           3609\n",
       "RainToday         3261\n",
       "RainTomorrow      3267\n",
       "dtype: int64"
      ]
     },
     "execution_count": 5,
     "metadata": {},
     "output_type": "execute_result"
    }
   ],
   "source": [
    "df.isnull().sum()"
   ]
  },
  {
   "cell_type": "code",
   "execution_count": 6,
   "id": "7baa12c6",
   "metadata": {
    "colab": {
     "base_uri": "https://localhost:8080/"
    },
    "executionInfo": {
     "elapsed": 15,
     "status": "ok",
     "timestamp": 1637819471233,
     "user": {
      "displayName": "Daniel Pong",
      "photoUrl": "https://lh3.googleusercontent.com/a/default-user=s64",
      "userId": "03877663975026177201"
     },
     "user_tz": -480
    },
    "id": "7baa12c6",
    "outputId": "0f181039-3d18-46d4-b23f-45c4383d8b00"
   },
   "outputs": [
    {
     "data": {
      "text/plain": [
       "No     110316\n",
       "Yes     31877\n",
       "Name: RainTomorrow, dtype: int64"
      ]
     },
     "execution_count": 6,
     "metadata": {},
     "output_type": "execute_result"
    }
   ],
   "source": [
    "df.RainTomorrow.value_counts()"
   ]
  },
  {
   "cell_type": "code",
   "execution_count": 7,
   "id": "7099c765",
   "metadata": {
    "colab": {
     "base_uri": "https://localhost:8080/"
    },
    "executionInfo": {
     "elapsed": 391,
     "status": "ok",
     "timestamp": 1637819473168,
     "user": {
      "displayName": "Daniel Pong",
      "photoUrl": "https://lh3.googleusercontent.com/a/default-user=s64",
      "userId": "03877663975026177201"
     },
     "user_tz": -480
    },
    "id": "7099c765",
    "outputId": "712ca741-18b3-42a1-fcce-d5ee3b43402c"
   },
   "outputs": [
    {
     "name": "stdout",
     "output_type": "stream",
     "text": [
      "RainTomorrow\n",
      "No     31877\n",
      "Yes    31877\n",
      "dtype: int64\n"
     ]
    }
   ],
   "source": [
    "# Perform undersampling to balance dataset\n",
    "num_Yes = len(df[df['RainTomorrow'] == 'Yes'])\n",
    "num_No = len(df[df['RainTomorrow'] == 'No'])\n",
    "Yes_indices = df[df.RainTomorrow == 'Yes'].index\n",
    "No_indices = df[df.RainTomorrow == 'No'].index\n",
    "random_indices = np.random.choice(No_indices,num_Yes, replace=False)\n",
    "under_sample_indices = np.concatenate([Yes_indices,random_indices])\n",
    "under_sample = df.loc[under_sample_indices]\n",
    "print(under_sample.groupby(['RainTomorrow']).size())"
   ]
  },
  {
   "cell_type": "code",
   "execution_count": 8,
   "id": "536490fd",
   "metadata": {
    "colab": {
     "base_uri": "https://localhost:8080/"
    },
    "executionInfo": {
     "elapsed": 7,
     "status": "ok",
     "timestamp": 1637819473453,
     "user": {
      "displayName": "Daniel Pong",
      "photoUrl": "https://lh3.googleusercontent.com/a/default-user=s64",
      "userId": "03877663975026177201"
     },
     "user_tz": -480
    },
    "id": "536490fd",
    "outputId": "013b53d2-aa2f-4990-cce2-5f7488053830"
   },
   "outputs": [
    {
     "data": {
      "text/plain": [
       "Date                 0\n",
       "Location             0\n",
       "MinTemp            300\n",
       "MaxTemp            115\n",
       "Rainfall           872\n",
       "Evaporation      27526\n",
       "Sunshine         30264\n",
       "WindGustDir       4453\n",
       "WindGustSpeed     4416\n",
       "WindDir9am        4278\n",
       "WindDir3pm        1838\n",
       "WindSpeed9am       623\n",
       "WindSpeed3pm      1245\n",
       "Humidity9am        872\n",
       "Humidity3pm       1738\n",
       "Pressure9am       6252\n",
       "Pressure3pm       6246\n",
       "Cloud9am         23465\n",
       "Cloud3pm         24646\n",
       "Temp9am            458\n",
       "Temp3pm           1332\n",
       "RainToday          872\n",
       "RainTomorrow         0\n",
       "dtype: int64"
      ]
     },
     "execution_count": 8,
     "metadata": {},
     "output_type": "execute_result"
    }
   ],
   "source": [
    "under_sample.isnull().sum()"
   ]
  },
  {
   "cell_type": "code",
   "execution_count": 9,
   "id": "1S6pApiRDJ23",
   "metadata": {
    "colab": {
     "base_uri": "https://localhost:8080/",
     "height": 617
    },
    "executionInfo": {
     "elapsed": 12,
     "status": "ok",
     "timestamp": 1637819474766,
     "user": {
      "displayName": "Daniel Pong",
      "photoUrl": "https://lh3.googleusercontent.com/a/default-user=s64",
      "userId": "03877663975026177201"
     },
     "user_tz": -480
    },
    "id": "1S6pApiRDJ23",
    "outputId": "51727d9a-2164-4e7e-a2cf-22a5b121e9b0"
   },
   "outputs": [
    {
     "data": {
      "text/html": [
       "<div>\n",
       "<style scoped>\n",
       "    .dataframe tbody tr th:only-of-type {\n",
       "        vertical-align: middle;\n",
       "    }\n",
       "\n",
       "    .dataframe tbody tr th {\n",
       "        vertical-align: top;\n",
       "    }\n",
       "\n",
       "    .dataframe thead th {\n",
       "        text-align: right;\n",
       "    }\n",
       "</style>\n",
       "<table border=\"1\" class=\"dataframe\">\n",
       "  <thead>\n",
       "    <tr style=\"text-align: right;\">\n",
       "      <th></th>\n",
       "      <th>Date</th>\n",
       "      <th>Location</th>\n",
       "      <th>MinTemp</th>\n",
       "      <th>MaxTemp</th>\n",
       "      <th>Rainfall</th>\n",
       "      <th>Evaporation</th>\n",
       "      <th>Sunshine</th>\n",
       "      <th>WindGustDir</th>\n",
       "      <th>WindGustSpeed</th>\n",
       "      <th>WindDir9am</th>\n",
       "      <th>...</th>\n",
       "      <th>Humidity9am</th>\n",
       "      <th>Humidity3pm</th>\n",
       "      <th>Pressure9am</th>\n",
       "      <th>Pressure3pm</th>\n",
       "      <th>Cloud9am</th>\n",
       "      <th>Cloud3pm</th>\n",
       "      <th>Temp9am</th>\n",
       "      <th>Temp3pm</th>\n",
       "      <th>RainToday</th>\n",
       "      <th>RainTomorrow</th>\n",
       "    </tr>\n",
       "  </thead>\n",
       "  <tbody>\n",
       "    <tr>\n",
       "      <th>8</th>\n",
       "      <td>2008-12-09</td>\n",
       "      <td>Albury</td>\n",
       "      <td>9.7</td>\n",
       "      <td>31.9</td>\n",
       "      <td>0.0</td>\n",
       "      <td>NaN</td>\n",
       "      <td>NaN</td>\n",
       "      <td>NNW</td>\n",
       "      <td>80.0</td>\n",
       "      <td>SE</td>\n",
       "      <td>...</td>\n",
       "      <td>42.0</td>\n",
       "      <td>9.0</td>\n",
       "      <td>1008.9</td>\n",
       "      <td>1003.6</td>\n",
       "      <td>NaN</td>\n",
       "      <td>NaN</td>\n",
       "      <td>18.3</td>\n",
       "      <td>30.2</td>\n",
       "      <td>No</td>\n",
       "      <td>Yes</td>\n",
       "    </tr>\n",
       "    <tr>\n",
       "      <th>10</th>\n",
       "      <td>2008-12-11</td>\n",
       "      <td>Albury</td>\n",
       "      <td>13.4</td>\n",
       "      <td>30.4</td>\n",
       "      <td>0.0</td>\n",
       "      <td>NaN</td>\n",
       "      <td>NaN</td>\n",
       "      <td>N</td>\n",
       "      <td>30.0</td>\n",
       "      <td>SSE</td>\n",
       "      <td>...</td>\n",
       "      <td>48.0</td>\n",
       "      <td>22.0</td>\n",
       "      <td>1011.8</td>\n",
       "      <td>1008.7</td>\n",
       "      <td>NaN</td>\n",
       "      <td>NaN</td>\n",
       "      <td>20.4</td>\n",
       "      <td>28.8</td>\n",
       "      <td>No</td>\n",
       "      <td>Yes</td>\n",
       "    </tr>\n",
       "    <tr>\n",
       "      <th>11</th>\n",
       "      <td>2008-12-12</td>\n",
       "      <td>Albury</td>\n",
       "      <td>15.9</td>\n",
       "      <td>21.7</td>\n",
       "      <td>2.2</td>\n",
       "      <td>NaN</td>\n",
       "      <td>NaN</td>\n",
       "      <td>NNE</td>\n",
       "      <td>31.0</td>\n",
       "      <td>NE</td>\n",
       "      <td>...</td>\n",
       "      <td>89.0</td>\n",
       "      <td>91.0</td>\n",
       "      <td>1010.5</td>\n",
       "      <td>1004.2</td>\n",
       "      <td>8.0</td>\n",
       "      <td>8.0</td>\n",
       "      <td>15.9</td>\n",
       "      <td>17.0</td>\n",
       "      <td>Yes</td>\n",
       "      <td>Yes</td>\n",
       "    </tr>\n",
       "    <tr>\n",
       "      <th>12</th>\n",
       "      <td>2008-12-13</td>\n",
       "      <td>Albury</td>\n",
       "      <td>15.9</td>\n",
       "      <td>18.6</td>\n",
       "      <td>15.6</td>\n",
       "      <td>NaN</td>\n",
       "      <td>NaN</td>\n",
       "      <td>W</td>\n",
       "      <td>61.0</td>\n",
       "      <td>NNW</td>\n",
       "      <td>...</td>\n",
       "      <td>76.0</td>\n",
       "      <td>93.0</td>\n",
       "      <td>994.3</td>\n",
       "      <td>993.0</td>\n",
       "      <td>8.0</td>\n",
       "      <td>8.0</td>\n",
       "      <td>17.4</td>\n",
       "      <td>15.8</td>\n",
       "      <td>Yes</td>\n",
       "      <td>Yes</td>\n",
       "    </tr>\n",
       "    <tr>\n",
       "      <th>16</th>\n",
       "      <td>2008-12-17</td>\n",
       "      <td>Albury</td>\n",
       "      <td>14.1</td>\n",
       "      <td>20.9</td>\n",
       "      <td>0.0</td>\n",
       "      <td>NaN</td>\n",
       "      <td>NaN</td>\n",
       "      <td>ENE</td>\n",
       "      <td>22.0</td>\n",
       "      <td>SSW</td>\n",
       "      <td>...</td>\n",
       "      <td>69.0</td>\n",
       "      <td>82.0</td>\n",
       "      <td>1012.2</td>\n",
       "      <td>1010.4</td>\n",
       "      <td>8.0</td>\n",
       "      <td>1.0</td>\n",
       "      <td>17.2</td>\n",
       "      <td>18.1</td>\n",
       "      <td>No</td>\n",
       "      <td>Yes</td>\n",
       "    </tr>\n",
       "    <tr>\n",
       "      <th>...</th>\n",
       "      <td>...</td>\n",
       "      <td>...</td>\n",
       "      <td>...</td>\n",
       "      <td>...</td>\n",
       "      <td>...</td>\n",
       "      <td>...</td>\n",
       "      <td>...</td>\n",
       "      <td>...</td>\n",
       "      <td>...</td>\n",
       "      <td>...</td>\n",
       "      <td>...</td>\n",
       "      <td>...</td>\n",
       "      <td>...</td>\n",
       "      <td>...</td>\n",
       "      <td>...</td>\n",
       "      <td>...</td>\n",
       "      <td>...</td>\n",
       "      <td>...</td>\n",
       "      <td>...</td>\n",
       "      <td>...</td>\n",
       "      <td>...</td>\n",
       "    </tr>\n",
       "    <tr>\n",
       "      <th>12339</th>\n",
       "      <td>2009-09-30</td>\n",
       "      <td>Moree</td>\n",
       "      <td>5.1</td>\n",
       "      <td>26.9</td>\n",
       "      <td>0.0</td>\n",
       "      <td>6.4</td>\n",
       "      <td>11.5</td>\n",
       "      <td>NNW</td>\n",
       "      <td>30.0</td>\n",
       "      <td>NE</td>\n",
       "      <td>...</td>\n",
       "      <td>23.0</td>\n",
       "      <td>9.0</td>\n",
       "      <td>1019.5</td>\n",
       "      <td>1015.3</td>\n",
       "      <td>0.0</td>\n",
       "      <td>0.0</td>\n",
       "      <td>20.4</td>\n",
       "      <td>26.4</td>\n",
       "      <td>No</td>\n",
       "      <td>No</td>\n",
       "    </tr>\n",
       "    <tr>\n",
       "      <th>139840</th>\n",
       "      <td>2010-06-30</td>\n",
       "      <td>Darwin</td>\n",
       "      <td>22.2</td>\n",
       "      <td>32.0</td>\n",
       "      <td>0.0</td>\n",
       "      <td>7.0</td>\n",
       "      <td>7.8</td>\n",
       "      <td>E</td>\n",
       "      <td>41.0</td>\n",
       "      <td>E</td>\n",
       "      <td>...</td>\n",
       "      <td>59.0</td>\n",
       "      <td>43.0</td>\n",
       "      <td>1014.6</td>\n",
       "      <td>1010.4</td>\n",
       "      <td>4.0</td>\n",
       "      <td>7.0</td>\n",
       "      <td>25.4</td>\n",
       "      <td>30.7</td>\n",
       "      <td>No</td>\n",
       "      <td>No</td>\n",
       "    </tr>\n",
       "    <tr>\n",
       "      <th>103747</th>\n",
       "      <td>2012-05-09</td>\n",
       "      <td>Nuriootpa</td>\n",
       "      <td>8.3</td>\n",
       "      <td>22.2</td>\n",
       "      <td>0.0</td>\n",
       "      <td>7.2</td>\n",
       "      <td>8.7</td>\n",
       "      <td>W</td>\n",
       "      <td>54.0</td>\n",
       "      <td>NW</td>\n",
       "      <td>...</td>\n",
       "      <td>77.0</td>\n",
       "      <td>35.0</td>\n",
       "      <td>1018.4</td>\n",
       "      <td>1018.3</td>\n",
       "      <td>5.0</td>\n",
       "      <td>2.0</td>\n",
       "      <td>16.8</td>\n",
       "      <td>20.5</td>\n",
       "      <td>No</td>\n",
       "      <td>No</td>\n",
       "    </tr>\n",
       "    <tr>\n",
       "      <th>117097</th>\n",
       "      <td>2016-01-11</td>\n",
       "      <td>PearceRAAF</td>\n",
       "      <td>13.9</td>\n",
       "      <td>29.3</td>\n",
       "      <td>0.0</td>\n",
       "      <td>NaN</td>\n",
       "      <td>7.9</td>\n",
       "      <td>W</td>\n",
       "      <td>44.0</td>\n",
       "      <td>SW</td>\n",
       "      <td>...</td>\n",
       "      <td>60.0</td>\n",
       "      <td>50.0</td>\n",
       "      <td>1012.9</td>\n",
       "      <td>1011.4</td>\n",
       "      <td>4.0</td>\n",
       "      <td>3.0</td>\n",
       "      <td>24.3</td>\n",
       "      <td>27.1</td>\n",
       "      <td>No</td>\n",
       "      <td>No</td>\n",
       "    </tr>\n",
       "    <tr>\n",
       "      <th>128589</th>\n",
       "      <td>2014-01-24</td>\n",
       "      <td>Walpole</td>\n",
       "      <td>17.9</td>\n",
       "      <td>27.9</td>\n",
       "      <td>1.6</td>\n",
       "      <td>NaN</td>\n",
       "      <td>NaN</td>\n",
       "      <td>E</td>\n",
       "      <td>41.0</td>\n",
       "      <td>E</td>\n",
       "      <td>...</td>\n",
       "      <td>87.0</td>\n",
       "      <td>54.0</td>\n",
       "      <td>1019.5</td>\n",
       "      <td>1015.9</td>\n",
       "      <td>NaN</td>\n",
       "      <td>NaN</td>\n",
       "      <td>20.7</td>\n",
       "      <td>26.8</td>\n",
       "      <td>Yes</td>\n",
       "      <td>No</td>\n",
       "    </tr>\n",
       "  </tbody>\n",
       "</table>\n",
       "<p>63754 rows × 23 columns</p>\n",
       "</div>"
      ],
      "text/plain": [
       "              Date    Location  MinTemp  MaxTemp  Rainfall  Evaporation  \\\n",
       "8       2008-12-09      Albury      9.7     31.9       0.0          NaN   \n",
       "10      2008-12-11      Albury     13.4     30.4       0.0          NaN   \n",
       "11      2008-12-12      Albury     15.9     21.7       2.2          NaN   \n",
       "12      2008-12-13      Albury     15.9     18.6      15.6          NaN   \n",
       "16      2008-12-17      Albury     14.1     20.9       0.0          NaN   \n",
       "...            ...         ...      ...      ...       ...          ...   \n",
       "12339   2009-09-30       Moree      5.1     26.9       0.0          6.4   \n",
       "139840  2010-06-30      Darwin     22.2     32.0       0.0          7.0   \n",
       "103747  2012-05-09   Nuriootpa      8.3     22.2       0.0          7.2   \n",
       "117097  2016-01-11  PearceRAAF     13.9     29.3       0.0          NaN   \n",
       "128589  2014-01-24     Walpole     17.9     27.9       1.6          NaN   \n",
       "\n",
       "        Sunshine WindGustDir  WindGustSpeed WindDir9am  ... Humidity9am  \\\n",
       "8            NaN         NNW           80.0         SE  ...        42.0   \n",
       "10           NaN           N           30.0        SSE  ...        48.0   \n",
       "11           NaN         NNE           31.0         NE  ...        89.0   \n",
       "12           NaN           W           61.0        NNW  ...        76.0   \n",
       "16           NaN         ENE           22.0        SSW  ...        69.0   \n",
       "...          ...         ...            ...        ...  ...         ...   \n",
       "12339       11.5         NNW           30.0         NE  ...        23.0   \n",
       "139840       7.8           E           41.0          E  ...        59.0   \n",
       "103747       8.7           W           54.0         NW  ...        77.0   \n",
       "117097       7.9           W           44.0         SW  ...        60.0   \n",
       "128589       NaN           E           41.0          E  ...        87.0   \n",
       "\n",
       "        Humidity3pm  Pressure9am  Pressure3pm  Cloud9am  Cloud3pm  Temp9am  \\\n",
       "8               9.0       1008.9       1003.6       NaN       NaN     18.3   \n",
       "10             22.0       1011.8       1008.7       NaN       NaN     20.4   \n",
       "11             91.0       1010.5       1004.2       8.0       8.0     15.9   \n",
       "12             93.0        994.3        993.0       8.0       8.0     17.4   \n",
       "16             82.0       1012.2       1010.4       8.0       1.0     17.2   \n",
       "...             ...          ...          ...       ...       ...      ...   \n",
       "12339           9.0       1019.5       1015.3       0.0       0.0     20.4   \n",
       "139840         43.0       1014.6       1010.4       4.0       7.0     25.4   \n",
       "103747         35.0       1018.4       1018.3       5.0       2.0     16.8   \n",
       "117097         50.0       1012.9       1011.4       4.0       3.0     24.3   \n",
       "128589         54.0       1019.5       1015.9       NaN       NaN     20.7   \n",
       "\n",
       "        Temp3pm  RainToday  RainTomorrow  \n",
       "8          30.2         No           Yes  \n",
       "10         28.8         No           Yes  \n",
       "11         17.0        Yes           Yes  \n",
       "12         15.8        Yes           Yes  \n",
       "16         18.1         No           Yes  \n",
       "...         ...        ...           ...  \n",
       "12339      26.4         No            No  \n",
       "139840     30.7         No            No  \n",
       "103747     20.5         No            No  \n",
       "117097     27.1         No            No  \n",
       "128589     26.8        Yes            No  \n",
       "\n",
       "[63754 rows x 23 columns]"
      ]
     },
     "execution_count": 9,
     "metadata": {},
     "output_type": "execute_result"
    }
   ],
   "source": [
    "under_sample"
   ]
  },
  {
   "cell_type": "code",
   "execution_count": 10,
   "id": "699264d2",
   "metadata": {
    "executionInfo": {
     "elapsed": 775,
     "status": "ok",
     "timestamp": 1637819574476,
     "user": {
      "displayName": "Daniel Pong",
      "photoUrl": "https://lh3.googleusercontent.com/a/default-user=s64",
      "userId": "03877663975026177201"
     },
     "user_tz": -480
    },
    "id": "699264d2"
   },
   "outputs": [],
   "source": [
    "# Fill missing values\n",
    "from sklearn.impute import SimpleImputer\n",
    "categorical_features = under_sample[['WindGustDir','WindDir9am','WindDir3pm','RainToday','RainTomorrow']]\n",
    "numerical_features = under_sample.drop(['WindGustDir','WindDir9am','WindDir3pm','RainToday','RainTomorrow','Date','Location'], axis = 1)\n",
    "\n",
    "numerical_imputer = SimpleImputer(strategy='mean')\n",
    "categorical_imputer = SimpleImputer(strategy='most_frequent')\n",
    "\n",
    "complete_numerical = numerical_imputer.fit_transform(numerical_features)\n",
    "complete_categorical = categorical_imputer.fit_transform(categorical_features)"
   ]
  },
  {
   "cell_type": "code",
   "execution_count": 11,
   "id": "r0pWXNmuqRg4",
   "metadata": {
    "colab": {
     "base_uri": "https://localhost:8080/",
     "height": 423
    },
    "executionInfo": {
     "elapsed": 305,
     "status": "ok",
     "timestamp": 1637819578423,
     "user": {
      "displayName": "Daniel Pong",
      "photoUrl": "https://lh3.googleusercontent.com/a/default-user=s64",
      "userId": "03877663975026177201"
     },
     "user_tz": -480
    },
    "id": "r0pWXNmuqRg4",
    "outputId": "89de5e9c-75c5-4c13-8e1b-c400c340af22"
   },
   "outputs": [
    {
     "data": {
      "text/html": [
       "<div>\n",
       "<style scoped>\n",
       "    .dataframe tbody tr th:only-of-type {\n",
       "        vertical-align: middle;\n",
       "    }\n",
       "\n",
       "    .dataframe tbody tr th {\n",
       "        vertical-align: top;\n",
       "    }\n",
       "\n",
       "    .dataframe thead th {\n",
       "        text-align: right;\n",
       "    }\n",
       "</style>\n",
       "<table border=\"1\" class=\"dataframe\">\n",
       "  <thead>\n",
       "    <tr style=\"text-align: right;\">\n",
       "      <th></th>\n",
       "      <th>0</th>\n",
       "      <th>1</th>\n",
       "      <th>2</th>\n",
       "      <th>3</th>\n",
       "      <th>4</th>\n",
       "      <th>5</th>\n",
       "      <th>6</th>\n",
       "      <th>7</th>\n",
       "      <th>8</th>\n",
       "      <th>9</th>\n",
       "      <th>10</th>\n",
       "      <th>11</th>\n",
       "      <th>12</th>\n",
       "      <th>13</th>\n",
       "      <th>14</th>\n",
       "      <th>15</th>\n",
       "    </tr>\n",
       "  </thead>\n",
       "  <tbody>\n",
       "    <tr>\n",
       "      <th>0</th>\n",
       "      <td>9.7</td>\n",
       "      <td>31.9</td>\n",
       "      <td>0.0</td>\n",
       "      <td>5.144725</td>\n",
       "      <td>6.493488</td>\n",
       "      <td>80.0</td>\n",
       "      <td>7.0</td>\n",
       "      <td>28.0</td>\n",
       "      <td>42.0</td>\n",
       "      <td>9.0</td>\n",
       "      <td>1008.9</td>\n",
       "      <td>1003.6</td>\n",
       "      <td>5.054804</td>\n",
       "      <td>5.195126</td>\n",
       "      <td>18.3</td>\n",
       "      <td>30.2</td>\n",
       "    </tr>\n",
       "    <tr>\n",
       "      <th>1</th>\n",
       "      <td>13.4</td>\n",
       "      <td>30.4</td>\n",
       "      <td>0.0</td>\n",
       "      <td>5.144725</td>\n",
       "      <td>6.493488</td>\n",
       "      <td>30.0</td>\n",
       "      <td>17.0</td>\n",
       "      <td>6.0</td>\n",
       "      <td>48.0</td>\n",
       "      <td>22.0</td>\n",
       "      <td>1011.8</td>\n",
       "      <td>1008.7</td>\n",
       "      <td>5.054804</td>\n",
       "      <td>5.195126</td>\n",
       "      <td>20.4</td>\n",
       "      <td>28.8</td>\n",
       "    </tr>\n",
       "    <tr>\n",
       "      <th>2</th>\n",
       "      <td>15.9</td>\n",
       "      <td>21.7</td>\n",
       "      <td>2.2</td>\n",
       "      <td>5.144725</td>\n",
       "      <td>6.493488</td>\n",
       "      <td>31.0</td>\n",
       "      <td>15.0</td>\n",
       "      <td>13.0</td>\n",
       "      <td>89.0</td>\n",
       "      <td>91.0</td>\n",
       "      <td>1010.5</td>\n",
       "      <td>1004.2</td>\n",
       "      <td>8.000000</td>\n",
       "      <td>8.000000</td>\n",
       "      <td>15.9</td>\n",
       "      <td>17.0</td>\n",
       "    </tr>\n",
       "    <tr>\n",
       "      <th>3</th>\n",
       "      <td>15.9</td>\n",
       "      <td>18.6</td>\n",
       "      <td>15.6</td>\n",
       "      <td>5.144725</td>\n",
       "      <td>6.493488</td>\n",
       "      <td>61.0</td>\n",
       "      <td>28.0</td>\n",
       "      <td>28.0</td>\n",
       "      <td>76.0</td>\n",
       "      <td>93.0</td>\n",
       "      <td>994.3</td>\n",
       "      <td>993.0</td>\n",
       "      <td>8.000000</td>\n",
       "      <td>8.000000</td>\n",
       "      <td>17.4</td>\n",
       "      <td>15.8</td>\n",
       "    </tr>\n",
       "    <tr>\n",
       "      <th>4</th>\n",
       "      <td>14.1</td>\n",
       "      <td>20.9</td>\n",
       "      <td>0.0</td>\n",
       "      <td>5.144725</td>\n",
       "      <td>6.493488</td>\n",
       "      <td>22.0</td>\n",
       "      <td>11.0</td>\n",
       "      <td>9.0</td>\n",
       "      <td>69.0</td>\n",
       "      <td>82.0</td>\n",
       "      <td>1012.2</td>\n",
       "      <td>1010.4</td>\n",
       "      <td>8.000000</td>\n",
       "      <td>1.000000</td>\n",
       "      <td>17.2</td>\n",
       "      <td>18.1</td>\n",
       "    </tr>\n",
       "    <tr>\n",
       "      <th>...</th>\n",
       "      <td>...</td>\n",
       "      <td>...</td>\n",
       "      <td>...</td>\n",
       "      <td>...</td>\n",
       "      <td>...</td>\n",
       "      <td>...</td>\n",
       "      <td>...</td>\n",
       "      <td>...</td>\n",
       "      <td>...</td>\n",
       "      <td>...</td>\n",
       "      <td>...</td>\n",
       "      <td>...</td>\n",
       "      <td>...</td>\n",
       "      <td>...</td>\n",
       "      <td>...</td>\n",
       "      <td>...</td>\n",
       "    </tr>\n",
       "    <tr>\n",
       "      <th>63749</th>\n",
       "      <td>5.1</td>\n",
       "      <td>26.9</td>\n",
       "      <td>0.0</td>\n",
       "      <td>6.400000</td>\n",
       "      <td>11.500000</td>\n",
       "      <td>30.0</td>\n",
       "      <td>17.0</td>\n",
       "      <td>11.0</td>\n",
       "      <td>23.0</td>\n",
       "      <td>9.0</td>\n",
       "      <td>1019.5</td>\n",
       "      <td>1015.3</td>\n",
       "      <td>0.000000</td>\n",
       "      <td>0.000000</td>\n",
       "      <td>20.4</td>\n",
       "      <td>26.4</td>\n",
       "    </tr>\n",
       "    <tr>\n",
       "      <th>63750</th>\n",
       "      <td>22.2</td>\n",
       "      <td>32.0</td>\n",
       "      <td>0.0</td>\n",
       "      <td>7.000000</td>\n",
       "      <td>7.800000</td>\n",
       "      <td>41.0</td>\n",
       "      <td>22.0</td>\n",
       "      <td>24.0</td>\n",
       "      <td>59.0</td>\n",
       "      <td>43.0</td>\n",
       "      <td>1014.6</td>\n",
       "      <td>1010.4</td>\n",
       "      <td>4.000000</td>\n",
       "      <td>7.000000</td>\n",
       "      <td>25.4</td>\n",
       "      <td>30.7</td>\n",
       "    </tr>\n",
       "    <tr>\n",
       "      <th>63751</th>\n",
       "      <td>8.3</td>\n",
       "      <td>22.2</td>\n",
       "      <td>0.0</td>\n",
       "      <td>7.200000</td>\n",
       "      <td>8.700000</td>\n",
       "      <td>54.0</td>\n",
       "      <td>17.0</td>\n",
       "      <td>30.0</td>\n",
       "      <td>77.0</td>\n",
       "      <td>35.0</td>\n",
       "      <td>1018.4</td>\n",
       "      <td>1018.3</td>\n",
       "      <td>5.000000</td>\n",
       "      <td>2.000000</td>\n",
       "      <td>16.8</td>\n",
       "      <td>20.5</td>\n",
       "    </tr>\n",
       "    <tr>\n",
       "      <th>63752</th>\n",
       "      <td>13.9</td>\n",
       "      <td>29.3</td>\n",
       "      <td>0.0</td>\n",
       "      <td>5.144725</td>\n",
       "      <td>7.900000</td>\n",
       "      <td>44.0</td>\n",
       "      <td>9.0</td>\n",
       "      <td>26.0</td>\n",
       "      <td>60.0</td>\n",
       "      <td>50.0</td>\n",
       "      <td>1012.9</td>\n",
       "      <td>1011.4</td>\n",
       "      <td>4.000000</td>\n",
       "      <td>3.000000</td>\n",
       "      <td>24.3</td>\n",
       "      <td>27.1</td>\n",
       "    </tr>\n",
       "    <tr>\n",
       "      <th>63753</th>\n",
       "      <td>17.9</td>\n",
       "      <td>27.9</td>\n",
       "      <td>1.6</td>\n",
       "      <td>5.144725</td>\n",
       "      <td>6.493488</td>\n",
       "      <td>41.0</td>\n",
       "      <td>15.0</td>\n",
       "      <td>24.0</td>\n",
       "      <td>87.0</td>\n",
       "      <td>54.0</td>\n",
       "      <td>1019.5</td>\n",
       "      <td>1015.9</td>\n",
       "      <td>5.054804</td>\n",
       "      <td>5.195126</td>\n",
       "      <td>20.7</td>\n",
       "      <td>26.8</td>\n",
       "    </tr>\n",
       "  </tbody>\n",
       "</table>\n",
       "<p>63754 rows × 16 columns</p>\n",
       "</div>"
      ],
      "text/plain": [
       "         0     1     2         3          4     5     6     7     8     9   \\\n",
       "0       9.7  31.9   0.0  5.144725   6.493488  80.0   7.0  28.0  42.0   9.0   \n",
       "1      13.4  30.4   0.0  5.144725   6.493488  30.0  17.0   6.0  48.0  22.0   \n",
       "2      15.9  21.7   2.2  5.144725   6.493488  31.0  15.0  13.0  89.0  91.0   \n",
       "3      15.9  18.6  15.6  5.144725   6.493488  61.0  28.0  28.0  76.0  93.0   \n",
       "4      14.1  20.9   0.0  5.144725   6.493488  22.0  11.0   9.0  69.0  82.0   \n",
       "...     ...   ...   ...       ...        ...   ...   ...   ...   ...   ...   \n",
       "63749   5.1  26.9   0.0  6.400000  11.500000  30.0  17.0  11.0  23.0   9.0   \n",
       "63750  22.2  32.0   0.0  7.000000   7.800000  41.0  22.0  24.0  59.0  43.0   \n",
       "63751   8.3  22.2   0.0  7.200000   8.700000  54.0  17.0  30.0  77.0  35.0   \n",
       "63752  13.9  29.3   0.0  5.144725   7.900000  44.0   9.0  26.0  60.0  50.0   \n",
       "63753  17.9  27.9   1.6  5.144725   6.493488  41.0  15.0  24.0  87.0  54.0   \n",
       "\n",
       "           10      11        12        13    14    15  \n",
       "0      1008.9  1003.6  5.054804  5.195126  18.3  30.2  \n",
       "1      1011.8  1008.7  5.054804  5.195126  20.4  28.8  \n",
       "2      1010.5  1004.2  8.000000  8.000000  15.9  17.0  \n",
       "3       994.3   993.0  8.000000  8.000000  17.4  15.8  \n",
       "4      1012.2  1010.4  8.000000  1.000000  17.2  18.1  \n",
       "...       ...     ...       ...       ...   ...   ...  \n",
       "63749  1019.5  1015.3  0.000000  0.000000  20.4  26.4  \n",
       "63750  1014.6  1010.4  4.000000  7.000000  25.4  30.7  \n",
       "63751  1018.4  1018.3  5.000000  2.000000  16.8  20.5  \n",
       "63752  1012.9  1011.4  4.000000  3.000000  24.3  27.1  \n",
       "63753  1019.5  1015.9  5.054804  5.195126  20.7  26.8  \n",
       "\n",
       "[63754 rows x 16 columns]"
      ]
     },
     "execution_count": 11,
     "metadata": {},
     "output_type": "execute_result"
    }
   ],
   "source": [
    "df2=pd.DataFrame(complete_numerical)\n",
    "df2"
   ]
  },
  {
   "cell_type": "code",
   "execution_count": 12,
   "id": "B2ol3tjvs6g0",
   "metadata": {
    "colab": {
     "base_uri": "https://localhost:8080/",
     "height": 443
    },
    "executionInfo": {
     "elapsed": 303,
     "status": "ok",
     "timestamp": 1637819580704,
     "user": {
      "displayName": "Daniel Pong",
      "photoUrl": "https://lh3.googleusercontent.com/a/default-user=s64",
      "userId": "03877663975026177201"
     },
     "user_tz": -480
    },
    "id": "B2ol3tjvs6g0",
    "outputId": "cefa0538-d9ea-4e45-b242-9bfa823054cc"
   },
   "outputs": [
    {
     "data": {
      "text/html": [
       "<div>\n",
       "<style scoped>\n",
       "    .dataframe tbody tr th:only-of-type {\n",
       "        vertical-align: middle;\n",
       "    }\n",
       "\n",
       "    .dataframe tbody tr th {\n",
       "        vertical-align: top;\n",
       "    }\n",
       "\n",
       "    .dataframe thead th {\n",
       "        text-align: right;\n",
       "    }\n",
       "</style>\n",
       "<table border=\"1\" class=\"dataframe\">\n",
       "  <thead>\n",
       "    <tr style=\"text-align: right;\">\n",
       "      <th></th>\n",
       "      <th>MinTemp</th>\n",
       "      <th>MaxTemp</th>\n",
       "      <th>Rainfall</th>\n",
       "      <th>Evaporation</th>\n",
       "      <th>Sunshine</th>\n",
       "      <th>WindGustSpeed</th>\n",
       "      <th>WindSpeed9am</th>\n",
       "      <th>WindSpeed3pm</th>\n",
       "      <th>Humidity9am</th>\n",
       "      <th>Humidity3pm</th>\n",
       "      <th>Pressure9am</th>\n",
       "      <th>Pressure3pm</th>\n",
       "      <th>Cloud9am</th>\n",
       "      <th>Cloud3pm</th>\n",
       "      <th>Temp9am</th>\n",
       "      <th>Temp3pm</th>\n",
       "    </tr>\n",
       "  </thead>\n",
       "  <tbody>\n",
       "    <tr>\n",
       "      <th>0</th>\n",
       "      <td>9.7</td>\n",
       "      <td>31.9</td>\n",
       "      <td>0.0</td>\n",
       "      <td>5.144725</td>\n",
       "      <td>6.493488</td>\n",
       "      <td>80.0</td>\n",
       "      <td>7.0</td>\n",
       "      <td>28.0</td>\n",
       "      <td>42.0</td>\n",
       "      <td>9.0</td>\n",
       "      <td>1008.9</td>\n",
       "      <td>1003.6</td>\n",
       "      <td>5.054804</td>\n",
       "      <td>5.195126</td>\n",
       "      <td>18.3</td>\n",
       "      <td>30.2</td>\n",
       "    </tr>\n",
       "    <tr>\n",
       "      <th>1</th>\n",
       "      <td>13.4</td>\n",
       "      <td>30.4</td>\n",
       "      <td>0.0</td>\n",
       "      <td>5.144725</td>\n",
       "      <td>6.493488</td>\n",
       "      <td>30.0</td>\n",
       "      <td>17.0</td>\n",
       "      <td>6.0</td>\n",
       "      <td>48.0</td>\n",
       "      <td>22.0</td>\n",
       "      <td>1011.8</td>\n",
       "      <td>1008.7</td>\n",
       "      <td>5.054804</td>\n",
       "      <td>5.195126</td>\n",
       "      <td>20.4</td>\n",
       "      <td>28.8</td>\n",
       "    </tr>\n",
       "    <tr>\n",
       "      <th>2</th>\n",
       "      <td>15.9</td>\n",
       "      <td>21.7</td>\n",
       "      <td>2.2</td>\n",
       "      <td>5.144725</td>\n",
       "      <td>6.493488</td>\n",
       "      <td>31.0</td>\n",
       "      <td>15.0</td>\n",
       "      <td>13.0</td>\n",
       "      <td>89.0</td>\n",
       "      <td>91.0</td>\n",
       "      <td>1010.5</td>\n",
       "      <td>1004.2</td>\n",
       "      <td>8.000000</td>\n",
       "      <td>8.000000</td>\n",
       "      <td>15.9</td>\n",
       "      <td>17.0</td>\n",
       "    </tr>\n",
       "    <tr>\n",
       "      <th>3</th>\n",
       "      <td>15.9</td>\n",
       "      <td>18.6</td>\n",
       "      <td>15.6</td>\n",
       "      <td>5.144725</td>\n",
       "      <td>6.493488</td>\n",
       "      <td>61.0</td>\n",
       "      <td>28.0</td>\n",
       "      <td>28.0</td>\n",
       "      <td>76.0</td>\n",
       "      <td>93.0</td>\n",
       "      <td>994.3</td>\n",
       "      <td>993.0</td>\n",
       "      <td>8.000000</td>\n",
       "      <td>8.000000</td>\n",
       "      <td>17.4</td>\n",
       "      <td>15.8</td>\n",
       "    </tr>\n",
       "    <tr>\n",
       "      <th>4</th>\n",
       "      <td>14.1</td>\n",
       "      <td>20.9</td>\n",
       "      <td>0.0</td>\n",
       "      <td>5.144725</td>\n",
       "      <td>6.493488</td>\n",
       "      <td>22.0</td>\n",
       "      <td>11.0</td>\n",
       "      <td>9.0</td>\n",
       "      <td>69.0</td>\n",
       "      <td>82.0</td>\n",
       "      <td>1012.2</td>\n",
       "      <td>1010.4</td>\n",
       "      <td>8.000000</td>\n",
       "      <td>1.000000</td>\n",
       "      <td>17.2</td>\n",
       "      <td>18.1</td>\n",
       "    </tr>\n",
       "    <tr>\n",
       "      <th>...</th>\n",
       "      <td>...</td>\n",
       "      <td>...</td>\n",
       "      <td>...</td>\n",
       "      <td>...</td>\n",
       "      <td>...</td>\n",
       "      <td>...</td>\n",
       "      <td>...</td>\n",
       "      <td>...</td>\n",
       "      <td>...</td>\n",
       "      <td>...</td>\n",
       "      <td>...</td>\n",
       "      <td>...</td>\n",
       "      <td>...</td>\n",
       "      <td>...</td>\n",
       "      <td>...</td>\n",
       "      <td>...</td>\n",
       "    </tr>\n",
       "    <tr>\n",
       "      <th>63749</th>\n",
       "      <td>5.1</td>\n",
       "      <td>26.9</td>\n",
       "      <td>0.0</td>\n",
       "      <td>6.400000</td>\n",
       "      <td>11.500000</td>\n",
       "      <td>30.0</td>\n",
       "      <td>17.0</td>\n",
       "      <td>11.0</td>\n",
       "      <td>23.0</td>\n",
       "      <td>9.0</td>\n",
       "      <td>1019.5</td>\n",
       "      <td>1015.3</td>\n",
       "      <td>0.000000</td>\n",
       "      <td>0.000000</td>\n",
       "      <td>20.4</td>\n",
       "      <td>26.4</td>\n",
       "    </tr>\n",
       "    <tr>\n",
       "      <th>63750</th>\n",
       "      <td>22.2</td>\n",
       "      <td>32.0</td>\n",
       "      <td>0.0</td>\n",
       "      <td>7.000000</td>\n",
       "      <td>7.800000</td>\n",
       "      <td>41.0</td>\n",
       "      <td>22.0</td>\n",
       "      <td>24.0</td>\n",
       "      <td>59.0</td>\n",
       "      <td>43.0</td>\n",
       "      <td>1014.6</td>\n",
       "      <td>1010.4</td>\n",
       "      <td>4.000000</td>\n",
       "      <td>7.000000</td>\n",
       "      <td>25.4</td>\n",
       "      <td>30.7</td>\n",
       "    </tr>\n",
       "    <tr>\n",
       "      <th>63751</th>\n",
       "      <td>8.3</td>\n",
       "      <td>22.2</td>\n",
       "      <td>0.0</td>\n",
       "      <td>7.200000</td>\n",
       "      <td>8.700000</td>\n",
       "      <td>54.0</td>\n",
       "      <td>17.0</td>\n",
       "      <td>30.0</td>\n",
       "      <td>77.0</td>\n",
       "      <td>35.0</td>\n",
       "      <td>1018.4</td>\n",
       "      <td>1018.3</td>\n",
       "      <td>5.000000</td>\n",
       "      <td>2.000000</td>\n",
       "      <td>16.8</td>\n",
       "      <td>20.5</td>\n",
       "    </tr>\n",
       "    <tr>\n",
       "      <th>63752</th>\n",
       "      <td>13.9</td>\n",
       "      <td>29.3</td>\n",
       "      <td>0.0</td>\n",
       "      <td>5.144725</td>\n",
       "      <td>7.900000</td>\n",
       "      <td>44.0</td>\n",
       "      <td>9.0</td>\n",
       "      <td>26.0</td>\n",
       "      <td>60.0</td>\n",
       "      <td>50.0</td>\n",
       "      <td>1012.9</td>\n",
       "      <td>1011.4</td>\n",
       "      <td>4.000000</td>\n",
       "      <td>3.000000</td>\n",
       "      <td>24.3</td>\n",
       "      <td>27.1</td>\n",
       "    </tr>\n",
       "    <tr>\n",
       "      <th>63753</th>\n",
       "      <td>17.9</td>\n",
       "      <td>27.9</td>\n",
       "      <td>1.6</td>\n",
       "      <td>5.144725</td>\n",
       "      <td>6.493488</td>\n",
       "      <td>41.0</td>\n",
       "      <td>15.0</td>\n",
       "      <td>24.0</td>\n",
       "      <td>87.0</td>\n",
       "      <td>54.0</td>\n",
       "      <td>1019.5</td>\n",
       "      <td>1015.9</td>\n",
       "      <td>5.054804</td>\n",
       "      <td>5.195126</td>\n",
       "      <td>20.7</td>\n",
       "      <td>26.8</td>\n",
       "    </tr>\n",
       "  </tbody>\n",
       "</table>\n",
       "<p>63754 rows × 16 columns</p>\n",
       "</div>"
      ],
      "text/plain": [
       "       MinTemp  MaxTemp  Rainfall  Evaporation   Sunshine  WindGustSpeed  \\\n",
       "0          9.7     31.9       0.0     5.144725   6.493488           80.0   \n",
       "1         13.4     30.4       0.0     5.144725   6.493488           30.0   \n",
       "2         15.9     21.7       2.2     5.144725   6.493488           31.0   \n",
       "3         15.9     18.6      15.6     5.144725   6.493488           61.0   \n",
       "4         14.1     20.9       0.0     5.144725   6.493488           22.0   \n",
       "...        ...      ...       ...          ...        ...            ...   \n",
       "63749      5.1     26.9       0.0     6.400000  11.500000           30.0   \n",
       "63750     22.2     32.0       0.0     7.000000   7.800000           41.0   \n",
       "63751      8.3     22.2       0.0     7.200000   8.700000           54.0   \n",
       "63752     13.9     29.3       0.0     5.144725   7.900000           44.0   \n",
       "63753     17.9     27.9       1.6     5.144725   6.493488           41.0   \n",
       "\n",
       "       WindSpeed9am  WindSpeed3pm  Humidity9am  Humidity3pm  Pressure9am  \\\n",
       "0               7.0          28.0         42.0          9.0       1008.9   \n",
       "1              17.0           6.0         48.0         22.0       1011.8   \n",
       "2              15.0          13.0         89.0         91.0       1010.5   \n",
       "3              28.0          28.0         76.0         93.0        994.3   \n",
       "4              11.0           9.0         69.0         82.0       1012.2   \n",
       "...             ...           ...          ...          ...          ...   \n",
       "63749          17.0          11.0         23.0          9.0       1019.5   \n",
       "63750          22.0          24.0         59.0         43.0       1014.6   \n",
       "63751          17.0          30.0         77.0         35.0       1018.4   \n",
       "63752           9.0          26.0         60.0         50.0       1012.9   \n",
       "63753          15.0          24.0         87.0         54.0       1019.5   \n",
       "\n",
       "       Pressure3pm  Cloud9am  Cloud3pm  Temp9am  Temp3pm  \n",
       "0           1003.6  5.054804  5.195126     18.3     30.2  \n",
       "1           1008.7  5.054804  5.195126     20.4     28.8  \n",
       "2           1004.2  8.000000  8.000000     15.9     17.0  \n",
       "3            993.0  8.000000  8.000000     17.4     15.8  \n",
       "4           1010.4  8.000000  1.000000     17.2     18.1  \n",
       "...            ...       ...       ...      ...      ...  \n",
       "63749       1015.3  0.000000  0.000000     20.4     26.4  \n",
       "63750       1010.4  4.000000  7.000000     25.4     30.7  \n",
       "63751       1018.3  5.000000  2.000000     16.8     20.5  \n",
       "63752       1011.4  4.000000  3.000000     24.3     27.1  \n",
       "63753       1015.9  5.054804  5.195126     20.7     26.8  \n",
       "\n",
       "[63754 rows x 16 columns]"
      ]
     },
     "execution_count": 12,
     "metadata": {},
     "output_type": "execute_result"
    }
   ],
   "source": [
    "df2.columns=['MinTemp', 'MaxTemp', 'Rainfall', 'Evaporation',\n",
    "       'Sunshine', 'WindGustSpeed','WindSpeed9am', 'WindSpeed3pm', 'Humidity9am', 'Humidity3pm',\n",
    "       'Pressure9am', 'Pressure3pm', 'Cloud9am', 'Cloud3pm', 'Temp9am',\n",
    "       'Temp3pm']\n",
    "df2"
   ]
  },
  {
   "cell_type": "code",
   "execution_count": 13,
   "id": "2Ktxp-NrojG-",
   "metadata": {
    "colab": {
     "base_uri": "https://localhost:8080/",
     "height": 423
    },
    "executionInfo": {
     "elapsed": 12,
     "status": "ok",
     "timestamp": 1637819581166,
     "user": {
      "displayName": "Daniel Pong",
      "photoUrl": "https://lh3.googleusercontent.com/a/default-user=s64",
      "userId": "03877663975026177201"
     },
     "user_tz": -480
    },
    "id": "2Ktxp-NrojG-",
    "outputId": "92484ad3-bc09-4eab-f35f-8aefe1c1c66a"
   },
   "outputs": [
    {
     "data": {
      "text/html": [
       "<div>\n",
       "<style scoped>\n",
       "    .dataframe tbody tr th:only-of-type {\n",
       "        vertical-align: middle;\n",
       "    }\n",
       "\n",
       "    .dataframe tbody tr th {\n",
       "        vertical-align: top;\n",
       "    }\n",
       "\n",
       "    .dataframe thead th {\n",
       "        text-align: right;\n",
       "    }\n",
       "</style>\n",
       "<table border=\"1\" class=\"dataframe\">\n",
       "  <thead>\n",
       "    <tr style=\"text-align: right;\">\n",
       "      <th></th>\n",
       "      <th>0</th>\n",
       "      <th>1</th>\n",
       "      <th>2</th>\n",
       "      <th>3</th>\n",
       "      <th>4</th>\n",
       "    </tr>\n",
       "  </thead>\n",
       "  <tbody>\n",
       "    <tr>\n",
       "      <th>0</th>\n",
       "      <td>NNW</td>\n",
       "      <td>SE</td>\n",
       "      <td>NW</td>\n",
       "      <td>No</td>\n",
       "      <td>Yes</td>\n",
       "    </tr>\n",
       "    <tr>\n",
       "      <th>1</th>\n",
       "      <td>N</td>\n",
       "      <td>SSE</td>\n",
       "      <td>ESE</td>\n",
       "      <td>No</td>\n",
       "      <td>Yes</td>\n",
       "    </tr>\n",
       "    <tr>\n",
       "      <th>2</th>\n",
       "      <td>NNE</td>\n",
       "      <td>NE</td>\n",
       "      <td>ENE</td>\n",
       "      <td>Yes</td>\n",
       "      <td>Yes</td>\n",
       "    </tr>\n",
       "    <tr>\n",
       "      <th>3</th>\n",
       "      <td>W</td>\n",
       "      <td>NNW</td>\n",
       "      <td>NNW</td>\n",
       "      <td>Yes</td>\n",
       "      <td>Yes</td>\n",
       "    </tr>\n",
       "    <tr>\n",
       "      <th>4</th>\n",
       "      <td>ENE</td>\n",
       "      <td>SSW</td>\n",
       "      <td>E</td>\n",
       "      <td>No</td>\n",
       "      <td>Yes</td>\n",
       "    </tr>\n",
       "    <tr>\n",
       "      <th>...</th>\n",
       "      <td>...</td>\n",
       "      <td>...</td>\n",
       "      <td>...</td>\n",
       "      <td>...</td>\n",
       "      <td>...</td>\n",
       "    </tr>\n",
       "    <tr>\n",
       "      <th>63749</th>\n",
       "      <td>NNW</td>\n",
       "      <td>NE</td>\n",
       "      <td>NE</td>\n",
       "      <td>No</td>\n",
       "      <td>No</td>\n",
       "    </tr>\n",
       "    <tr>\n",
       "      <th>63750</th>\n",
       "      <td>E</td>\n",
       "      <td>E</td>\n",
       "      <td>E</td>\n",
       "      <td>No</td>\n",
       "      <td>No</td>\n",
       "    </tr>\n",
       "    <tr>\n",
       "      <th>63751</th>\n",
       "      <td>W</td>\n",
       "      <td>NW</td>\n",
       "      <td>W</td>\n",
       "      <td>No</td>\n",
       "      <td>No</td>\n",
       "    </tr>\n",
       "    <tr>\n",
       "      <th>63752</th>\n",
       "      <td>W</td>\n",
       "      <td>SW</td>\n",
       "      <td>WSW</td>\n",
       "      <td>No</td>\n",
       "      <td>No</td>\n",
       "    </tr>\n",
       "    <tr>\n",
       "      <th>63753</th>\n",
       "      <td>E</td>\n",
       "      <td>E</td>\n",
       "      <td>E</td>\n",
       "      <td>Yes</td>\n",
       "      <td>No</td>\n",
       "    </tr>\n",
       "  </tbody>\n",
       "</table>\n",
       "<p>63754 rows × 5 columns</p>\n",
       "</div>"
      ],
      "text/plain": [
       "         0    1    2    3    4\n",
       "0      NNW   SE   NW   No  Yes\n",
       "1        N  SSE  ESE   No  Yes\n",
       "2      NNE   NE  ENE  Yes  Yes\n",
       "3        W  NNW  NNW  Yes  Yes\n",
       "4      ENE  SSW    E   No  Yes\n",
       "...    ...  ...  ...  ...  ...\n",
       "63749  NNW   NE   NE   No   No\n",
       "63750    E    E    E   No   No\n",
       "63751    W   NW    W   No   No\n",
       "63752    W   SW  WSW   No   No\n",
       "63753    E    E    E  Yes   No\n",
       "\n",
       "[63754 rows x 5 columns]"
      ]
     },
     "execution_count": 13,
     "metadata": {},
     "output_type": "execute_result"
    }
   ],
   "source": [
    "df3=pd.DataFrame(complete_categorical)\n",
    "df3"
   ]
  },
  {
   "cell_type": "code",
   "execution_count": 14,
   "id": "k5MApEFQueQ5",
   "metadata": {
    "colab": {
     "base_uri": "https://localhost:8080/",
     "height": 423
    },
    "executionInfo": {
     "elapsed": 14,
     "status": "ok",
     "timestamp": 1637819581877,
     "user": {
      "displayName": "Daniel Pong",
      "photoUrl": "https://lh3.googleusercontent.com/a/default-user=s64",
      "userId": "03877663975026177201"
     },
     "user_tz": -480
    },
    "id": "k5MApEFQueQ5",
    "outputId": "1ff46de5-a5b9-4157-a882-276b5b45d308"
   },
   "outputs": [
    {
     "data": {
      "text/html": [
       "<div>\n",
       "<style scoped>\n",
       "    .dataframe tbody tr th:only-of-type {\n",
       "        vertical-align: middle;\n",
       "    }\n",
       "\n",
       "    .dataframe tbody tr th {\n",
       "        vertical-align: top;\n",
       "    }\n",
       "\n",
       "    .dataframe thead th {\n",
       "        text-align: right;\n",
       "    }\n",
       "</style>\n",
       "<table border=\"1\" class=\"dataframe\">\n",
       "  <thead>\n",
       "    <tr style=\"text-align: right;\">\n",
       "      <th></th>\n",
       "      <th>WindGustDir</th>\n",
       "      <th>WindDir9am</th>\n",
       "      <th>WindDir3pm</th>\n",
       "      <th>RainToday</th>\n",
       "      <th>RainTomorrow</th>\n",
       "    </tr>\n",
       "  </thead>\n",
       "  <tbody>\n",
       "    <tr>\n",
       "      <th>0</th>\n",
       "      <td>NNW</td>\n",
       "      <td>SE</td>\n",
       "      <td>NW</td>\n",
       "      <td>No</td>\n",
       "      <td>Yes</td>\n",
       "    </tr>\n",
       "    <tr>\n",
       "      <th>1</th>\n",
       "      <td>N</td>\n",
       "      <td>SSE</td>\n",
       "      <td>ESE</td>\n",
       "      <td>No</td>\n",
       "      <td>Yes</td>\n",
       "    </tr>\n",
       "    <tr>\n",
       "      <th>2</th>\n",
       "      <td>NNE</td>\n",
       "      <td>NE</td>\n",
       "      <td>ENE</td>\n",
       "      <td>Yes</td>\n",
       "      <td>Yes</td>\n",
       "    </tr>\n",
       "    <tr>\n",
       "      <th>3</th>\n",
       "      <td>W</td>\n",
       "      <td>NNW</td>\n",
       "      <td>NNW</td>\n",
       "      <td>Yes</td>\n",
       "      <td>Yes</td>\n",
       "    </tr>\n",
       "    <tr>\n",
       "      <th>4</th>\n",
       "      <td>ENE</td>\n",
       "      <td>SSW</td>\n",
       "      <td>E</td>\n",
       "      <td>No</td>\n",
       "      <td>Yes</td>\n",
       "    </tr>\n",
       "    <tr>\n",
       "      <th>...</th>\n",
       "      <td>...</td>\n",
       "      <td>...</td>\n",
       "      <td>...</td>\n",
       "      <td>...</td>\n",
       "      <td>...</td>\n",
       "    </tr>\n",
       "    <tr>\n",
       "      <th>63749</th>\n",
       "      <td>NNW</td>\n",
       "      <td>NE</td>\n",
       "      <td>NE</td>\n",
       "      <td>No</td>\n",
       "      <td>No</td>\n",
       "    </tr>\n",
       "    <tr>\n",
       "      <th>63750</th>\n",
       "      <td>E</td>\n",
       "      <td>E</td>\n",
       "      <td>E</td>\n",
       "      <td>No</td>\n",
       "      <td>No</td>\n",
       "    </tr>\n",
       "    <tr>\n",
       "      <th>63751</th>\n",
       "      <td>W</td>\n",
       "      <td>NW</td>\n",
       "      <td>W</td>\n",
       "      <td>No</td>\n",
       "      <td>No</td>\n",
       "    </tr>\n",
       "    <tr>\n",
       "      <th>63752</th>\n",
       "      <td>W</td>\n",
       "      <td>SW</td>\n",
       "      <td>WSW</td>\n",
       "      <td>No</td>\n",
       "      <td>No</td>\n",
       "    </tr>\n",
       "    <tr>\n",
       "      <th>63753</th>\n",
       "      <td>E</td>\n",
       "      <td>E</td>\n",
       "      <td>E</td>\n",
       "      <td>Yes</td>\n",
       "      <td>No</td>\n",
       "    </tr>\n",
       "  </tbody>\n",
       "</table>\n",
       "<p>63754 rows × 5 columns</p>\n",
       "</div>"
      ],
      "text/plain": [
       "      WindGustDir WindDir9am WindDir3pm RainToday RainTomorrow\n",
       "0             NNW         SE         NW        No          Yes\n",
       "1               N        SSE        ESE        No          Yes\n",
       "2             NNE         NE        ENE       Yes          Yes\n",
       "3               W        NNW        NNW       Yes          Yes\n",
       "4             ENE        SSW          E        No          Yes\n",
       "...           ...        ...        ...       ...          ...\n",
       "63749         NNW         NE         NE        No           No\n",
       "63750           E          E          E        No           No\n",
       "63751           W         NW          W        No           No\n",
       "63752           W         SW        WSW        No           No\n",
       "63753           E          E          E       Yes           No\n",
       "\n",
       "[63754 rows x 5 columns]"
      ]
     },
     "execution_count": 14,
     "metadata": {},
     "output_type": "execute_result"
    }
   ],
   "source": [
    "df3.columns=['WindGustDir','WindDir9am','WindDir3pm','RainToday','RainTomorrow']\n",
    "df3"
   ]
  },
  {
   "cell_type": "code",
   "execution_count": 15,
   "id": "gwV4djkaFTO-",
   "metadata": {
    "colab": {
     "base_uri": "https://localhost:8080/",
     "height": 423
    },
    "executionInfo": {
     "elapsed": 25,
     "status": "ok",
     "timestamp": 1637819583551,
     "user": {
      "displayName": "Daniel Pong",
      "photoUrl": "https://lh3.googleusercontent.com/a/default-user=s64",
      "userId": "03877663975026177201"
     },
     "user_tz": -480
    },
    "id": "gwV4djkaFTO-",
    "outputId": "864f1ee9-097c-4e49-8870-af7a7d9e3d66"
   },
   "outputs": [
    {
     "data": {
      "text/html": [
       "<div>\n",
       "<style scoped>\n",
       "    .dataframe tbody tr th:only-of-type {\n",
       "        vertical-align: middle;\n",
       "    }\n",
       "\n",
       "    .dataframe tbody tr th {\n",
       "        vertical-align: top;\n",
       "    }\n",
       "\n",
       "    .dataframe thead th {\n",
       "        text-align: right;\n",
       "    }\n",
       "</style>\n",
       "<table border=\"1\" class=\"dataframe\">\n",
       "  <thead>\n",
       "    <tr style=\"text-align: right;\">\n",
       "      <th></th>\n",
       "      <th>WindGustDir</th>\n",
       "      <th>WindDir9am</th>\n",
       "      <th>WindDir3pm</th>\n",
       "      <th>RainToday</th>\n",
       "      <th>RainTomorrow</th>\n",
       "      <th>Location</th>\n",
       "    </tr>\n",
       "  </thead>\n",
       "  <tbody>\n",
       "    <tr>\n",
       "      <th>0</th>\n",
       "      <td>NNW</td>\n",
       "      <td>SE</td>\n",
       "      <td>NW</td>\n",
       "      <td>No</td>\n",
       "      <td>Yes</td>\n",
       "      <td>Albury</td>\n",
       "    </tr>\n",
       "    <tr>\n",
       "      <th>1</th>\n",
       "      <td>N</td>\n",
       "      <td>SSE</td>\n",
       "      <td>ESE</td>\n",
       "      <td>No</td>\n",
       "      <td>Yes</td>\n",
       "      <td>Albury</td>\n",
       "    </tr>\n",
       "    <tr>\n",
       "      <th>2</th>\n",
       "      <td>NNE</td>\n",
       "      <td>NE</td>\n",
       "      <td>ENE</td>\n",
       "      <td>Yes</td>\n",
       "      <td>Yes</td>\n",
       "      <td>Albury</td>\n",
       "    </tr>\n",
       "    <tr>\n",
       "      <th>3</th>\n",
       "      <td>W</td>\n",
       "      <td>NNW</td>\n",
       "      <td>NNW</td>\n",
       "      <td>Yes</td>\n",
       "      <td>Yes</td>\n",
       "      <td>Albury</td>\n",
       "    </tr>\n",
       "    <tr>\n",
       "      <th>4</th>\n",
       "      <td>ENE</td>\n",
       "      <td>SSW</td>\n",
       "      <td>E</td>\n",
       "      <td>No</td>\n",
       "      <td>Yes</td>\n",
       "      <td>Albury</td>\n",
       "    </tr>\n",
       "    <tr>\n",
       "      <th>...</th>\n",
       "      <td>...</td>\n",
       "      <td>...</td>\n",
       "      <td>...</td>\n",
       "      <td>...</td>\n",
       "      <td>...</td>\n",
       "      <td>...</td>\n",
       "    </tr>\n",
       "    <tr>\n",
       "      <th>63749</th>\n",
       "      <td>NNW</td>\n",
       "      <td>NE</td>\n",
       "      <td>NE</td>\n",
       "      <td>No</td>\n",
       "      <td>No</td>\n",
       "      <td>Moree</td>\n",
       "    </tr>\n",
       "    <tr>\n",
       "      <th>63750</th>\n",
       "      <td>E</td>\n",
       "      <td>E</td>\n",
       "      <td>E</td>\n",
       "      <td>No</td>\n",
       "      <td>No</td>\n",
       "      <td>Darwin</td>\n",
       "    </tr>\n",
       "    <tr>\n",
       "      <th>63751</th>\n",
       "      <td>W</td>\n",
       "      <td>NW</td>\n",
       "      <td>W</td>\n",
       "      <td>No</td>\n",
       "      <td>No</td>\n",
       "      <td>Nuriootpa</td>\n",
       "    </tr>\n",
       "    <tr>\n",
       "      <th>63752</th>\n",
       "      <td>W</td>\n",
       "      <td>SW</td>\n",
       "      <td>WSW</td>\n",
       "      <td>No</td>\n",
       "      <td>No</td>\n",
       "      <td>PearceRAAF</td>\n",
       "    </tr>\n",
       "    <tr>\n",
       "      <th>63753</th>\n",
       "      <td>E</td>\n",
       "      <td>E</td>\n",
       "      <td>E</td>\n",
       "      <td>Yes</td>\n",
       "      <td>No</td>\n",
       "      <td>Walpole</td>\n",
       "    </tr>\n",
       "  </tbody>\n",
       "</table>\n",
       "<p>63754 rows × 6 columns</p>\n",
       "</div>"
      ],
      "text/plain": [
       "      WindGustDir WindDir9am WindDir3pm RainToday RainTomorrow    Location\n",
       "0             NNW         SE         NW        No          Yes      Albury\n",
       "1               N        SSE        ESE        No          Yes      Albury\n",
       "2             NNE         NE        ENE       Yes          Yes      Albury\n",
       "3               W        NNW        NNW       Yes          Yes      Albury\n",
       "4             ENE        SSW          E        No          Yes      Albury\n",
       "...           ...        ...        ...       ...          ...         ...\n",
       "63749         NNW         NE         NE        No           No       Moree\n",
       "63750           E          E          E        No           No      Darwin\n",
       "63751           W         NW          W        No           No   Nuriootpa\n",
       "63752           W         SW        WSW        No           No  PearceRAAF\n",
       "63753           E          E          E       Yes           No     Walpole\n",
       "\n",
       "[63754 rows x 6 columns]"
      ]
     },
     "execution_count": 15,
     "metadata": {},
     "output_type": "execute_result"
    }
   ],
   "source": [
    "df3[\"Location\"]=list(under_sample[\"Location\"])\n",
    "df3"
   ]
  },
  {
   "cell_type": "code",
   "execution_count": 16,
   "id": "ePB5RE8u7Xs7",
   "metadata": {
    "colab": {
     "base_uri": "https://localhost:8080/",
     "height": 443
    },
    "executionInfo": {
     "elapsed": 313,
     "status": "ok",
     "timestamp": 1637824622619,
     "user": {
      "displayName": "Daniel Pong",
      "photoUrl": "https://lh3.googleusercontent.com/a/default-user=s64",
      "userId": "03877663975026177201"
     },
     "user_tz": -480
    },
    "id": "ePB5RE8u7Xs7",
    "outputId": "379b181c-fbc6-45a4-f487-9f51d69a7979"
   },
   "outputs": [
    {
     "data": {
      "text/html": [
       "<div>\n",
       "<style scoped>\n",
       "    .dataframe tbody tr th:only-of-type {\n",
       "        vertical-align: middle;\n",
       "    }\n",
       "\n",
       "    .dataframe tbody tr th {\n",
       "        vertical-align: top;\n",
       "    }\n",
       "\n",
       "    .dataframe thead th {\n",
       "        text-align: right;\n",
       "    }\n",
       "</style>\n",
       "<table border=\"1\" class=\"dataframe\">\n",
       "  <thead>\n",
       "    <tr style=\"text-align: right;\">\n",
       "      <th></th>\n",
       "      <th>WindGustDir_ENE</th>\n",
       "      <th>WindGustDir_ESE</th>\n",
       "      <th>WindGustDir_N</th>\n",
       "      <th>WindGustDir_NE</th>\n",
       "      <th>WindGustDir_NNE</th>\n",
       "      <th>WindGustDir_NNW</th>\n",
       "      <th>WindGustDir_NW</th>\n",
       "      <th>WindGustDir_S</th>\n",
       "      <th>WindGustDir_SE</th>\n",
       "      <th>WindGustDir_SSE</th>\n",
       "      <th>...</th>\n",
       "      <th>Location_Townsville</th>\n",
       "      <th>Location_Tuggeranong</th>\n",
       "      <th>Location_Uluru</th>\n",
       "      <th>Location_WaggaWagga</th>\n",
       "      <th>Location_Walpole</th>\n",
       "      <th>Location_Watsonia</th>\n",
       "      <th>Location_Williamtown</th>\n",
       "      <th>Location_Witchcliffe</th>\n",
       "      <th>Location_Wollongong</th>\n",
       "      <th>Location_Woomera</th>\n",
       "    </tr>\n",
       "  </thead>\n",
       "  <tbody>\n",
       "    <tr>\n",
       "      <th>0</th>\n",
       "      <td>0</td>\n",
       "      <td>0</td>\n",
       "      <td>0</td>\n",
       "      <td>0</td>\n",
       "      <td>0</td>\n",
       "      <td>1</td>\n",
       "      <td>0</td>\n",
       "      <td>0</td>\n",
       "      <td>0</td>\n",
       "      <td>0</td>\n",
       "      <td>...</td>\n",
       "      <td>0</td>\n",
       "      <td>0</td>\n",
       "      <td>0</td>\n",
       "      <td>0</td>\n",
       "      <td>0</td>\n",
       "      <td>0</td>\n",
       "      <td>0</td>\n",
       "      <td>0</td>\n",
       "      <td>0</td>\n",
       "      <td>0</td>\n",
       "    </tr>\n",
       "    <tr>\n",
       "      <th>1</th>\n",
       "      <td>0</td>\n",
       "      <td>0</td>\n",
       "      <td>1</td>\n",
       "      <td>0</td>\n",
       "      <td>0</td>\n",
       "      <td>0</td>\n",
       "      <td>0</td>\n",
       "      <td>0</td>\n",
       "      <td>0</td>\n",
       "      <td>0</td>\n",
       "      <td>...</td>\n",
       "      <td>0</td>\n",
       "      <td>0</td>\n",
       "      <td>0</td>\n",
       "      <td>0</td>\n",
       "      <td>0</td>\n",
       "      <td>0</td>\n",
       "      <td>0</td>\n",
       "      <td>0</td>\n",
       "      <td>0</td>\n",
       "      <td>0</td>\n",
       "    </tr>\n",
       "    <tr>\n",
       "      <th>2</th>\n",
       "      <td>0</td>\n",
       "      <td>0</td>\n",
       "      <td>0</td>\n",
       "      <td>0</td>\n",
       "      <td>1</td>\n",
       "      <td>0</td>\n",
       "      <td>0</td>\n",
       "      <td>0</td>\n",
       "      <td>0</td>\n",
       "      <td>0</td>\n",
       "      <td>...</td>\n",
       "      <td>0</td>\n",
       "      <td>0</td>\n",
       "      <td>0</td>\n",
       "      <td>0</td>\n",
       "      <td>0</td>\n",
       "      <td>0</td>\n",
       "      <td>0</td>\n",
       "      <td>0</td>\n",
       "      <td>0</td>\n",
       "      <td>0</td>\n",
       "    </tr>\n",
       "    <tr>\n",
       "      <th>3</th>\n",
       "      <td>0</td>\n",
       "      <td>0</td>\n",
       "      <td>0</td>\n",
       "      <td>0</td>\n",
       "      <td>0</td>\n",
       "      <td>0</td>\n",
       "      <td>0</td>\n",
       "      <td>0</td>\n",
       "      <td>0</td>\n",
       "      <td>0</td>\n",
       "      <td>...</td>\n",
       "      <td>0</td>\n",
       "      <td>0</td>\n",
       "      <td>0</td>\n",
       "      <td>0</td>\n",
       "      <td>0</td>\n",
       "      <td>0</td>\n",
       "      <td>0</td>\n",
       "      <td>0</td>\n",
       "      <td>0</td>\n",
       "      <td>0</td>\n",
       "    </tr>\n",
       "    <tr>\n",
       "      <th>4</th>\n",
       "      <td>1</td>\n",
       "      <td>0</td>\n",
       "      <td>0</td>\n",
       "      <td>0</td>\n",
       "      <td>0</td>\n",
       "      <td>0</td>\n",
       "      <td>0</td>\n",
       "      <td>0</td>\n",
       "      <td>0</td>\n",
       "      <td>0</td>\n",
       "      <td>...</td>\n",
       "      <td>0</td>\n",
       "      <td>0</td>\n",
       "      <td>0</td>\n",
       "      <td>0</td>\n",
       "      <td>0</td>\n",
       "      <td>0</td>\n",
       "      <td>0</td>\n",
       "      <td>0</td>\n",
       "      <td>0</td>\n",
       "      <td>0</td>\n",
       "    </tr>\n",
       "    <tr>\n",
       "      <th>...</th>\n",
       "      <td>...</td>\n",
       "      <td>...</td>\n",
       "      <td>...</td>\n",
       "      <td>...</td>\n",
       "      <td>...</td>\n",
       "      <td>...</td>\n",
       "      <td>...</td>\n",
       "      <td>...</td>\n",
       "      <td>...</td>\n",
       "      <td>...</td>\n",
       "      <td>...</td>\n",
       "      <td>...</td>\n",
       "      <td>...</td>\n",
       "      <td>...</td>\n",
       "      <td>...</td>\n",
       "      <td>...</td>\n",
       "      <td>...</td>\n",
       "      <td>...</td>\n",
       "      <td>...</td>\n",
       "      <td>...</td>\n",
       "      <td>...</td>\n",
       "    </tr>\n",
       "    <tr>\n",
       "      <th>63749</th>\n",
       "      <td>0</td>\n",
       "      <td>0</td>\n",
       "      <td>0</td>\n",
       "      <td>0</td>\n",
       "      <td>0</td>\n",
       "      <td>1</td>\n",
       "      <td>0</td>\n",
       "      <td>0</td>\n",
       "      <td>0</td>\n",
       "      <td>0</td>\n",
       "      <td>...</td>\n",
       "      <td>0</td>\n",
       "      <td>0</td>\n",
       "      <td>0</td>\n",
       "      <td>0</td>\n",
       "      <td>0</td>\n",
       "      <td>0</td>\n",
       "      <td>0</td>\n",
       "      <td>0</td>\n",
       "      <td>0</td>\n",
       "      <td>0</td>\n",
       "    </tr>\n",
       "    <tr>\n",
       "      <th>63750</th>\n",
       "      <td>0</td>\n",
       "      <td>0</td>\n",
       "      <td>0</td>\n",
       "      <td>0</td>\n",
       "      <td>0</td>\n",
       "      <td>0</td>\n",
       "      <td>0</td>\n",
       "      <td>0</td>\n",
       "      <td>0</td>\n",
       "      <td>0</td>\n",
       "      <td>...</td>\n",
       "      <td>0</td>\n",
       "      <td>0</td>\n",
       "      <td>0</td>\n",
       "      <td>0</td>\n",
       "      <td>0</td>\n",
       "      <td>0</td>\n",
       "      <td>0</td>\n",
       "      <td>0</td>\n",
       "      <td>0</td>\n",
       "      <td>0</td>\n",
       "    </tr>\n",
       "    <tr>\n",
       "      <th>63751</th>\n",
       "      <td>0</td>\n",
       "      <td>0</td>\n",
       "      <td>0</td>\n",
       "      <td>0</td>\n",
       "      <td>0</td>\n",
       "      <td>0</td>\n",
       "      <td>0</td>\n",
       "      <td>0</td>\n",
       "      <td>0</td>\n",
       "      <td>0</td>\n",
       "      <td>...</td>\n",
       "      <td>0</td>\n",
       "      <td>0</td>\n",
       "      <td>0</td>\n",
       "      <td>0</td>\n",
       "      <td>0</td>\n",
       "      <td>0</td>\n",
       "      <td>0</td>\n",
       "      <td>0</td>\n",
       "      <td>0</td>\n",
       "      <td>0</td>\n",
       "    </tr>\n",
       "    <tr>\n",
       "      <th>63752</th>\n",
       "      <td>0</td>\n",
       "      <td>0</td>\n",
       "      <td>0</td>\n",
       "      <td>0</td>\n",
       "      <td>0</td>\n",
       "      <td>0</td>\n",
       "      <td>0</td>\n",
       "      <td>0</td>\n",
       "      <td>0</td>\n",
       "      <td>0</td>\n",
       "      <td>...</td>\n",
       "      <td>0</td>\n",
       "      <td>0</td>\n",
       "      <td>0</td>\n",
       "      <td>0</td>\n",
       "      <td>0</td>\n",
       "      <td>0</td>\n",
       "      <td>0</td>\n",
       "      <td>0</td>\n",
       "      <td>0</td>\n",
       "      <td>0</td>\n",
       "    </tr>\n",
       "    <tr>\n",
       "      <th>63753</th>\n",
       "      <td>0</td>\n",
       "      <td>0</td>\n",
       "      <td>0</td>\n",
       "      <td>0</td>\n",
       "      <td>0</td>\n",
       "      <td>0</td>\n",
       "      <td>0</td>\n",
       "      <td>0</td>\n",
       "      <td>0</td>\n",
       "      <td>0</td>\n",
       "      <td>...</td>\n",
       "      <td>0</td>\n",
       "      <td>0</td>\n",
       "      <td>0</td>\n",
       "      <td>0</td>\n",
       "      <td>1</td>\n",
       "      <td>0</td>\n",
       "      <td>0</td>\n",
       "      <td>0</td>\n",
       "      <td>0</td>\n",
       "      <td>0</td>\n",
       "    </tr>\n",
       "  </tbody>\n",
       "</table>\n",
       "<p>63754 rows × 95 columns</p>\n",
       "</div>"
      ],
      "text/plain": [
       "       WindGustDir_ENE  WindGustDir_ESE  WindGustDir_N  WindGustDir_NE  \\\n",
       "0                    0                0              0               0   \n",
       "1                    0                0              1               0   \n",
       "2                    0                0              0               0   \n",
       "3                    0                0              0               0   \n",
       "4                    1                0              0               0   \n",
       "...                ...              ...            ...             ...   \n",
       "63749                0                0              0               0   \n",
       "63750                0                0              0               0   \n",
       "63751                0                0              0               0   \n",
       "63752                0                0              0               0   \n",
       "63753                0                0              0               0   \n",
       "\n",
       "       WindGustDir_NNE  WindGustDir_NNW  WindGustDir_NW  WindGustDir_S  \\\n",
       "0                    0                1               0              0   \n",
       "1                    0                0               0              0   \n",
       "2                    1                0               0              0   \n",
       "3                    0                0               0              0   \n",
       "4                    0                0               0              0   \n",
       "...                ...              ...             ...            ...   \n",
       "63749                0                1               0              0   \n",
       "63750                0                0               0              0   \n",
       "63751                0                0               0              0   \n",
       "63752                0                0               0              0   \n",
       "63753                0                0               0              0   \n",
       "\n",
       "       WindGustDir_SE  WindGustDir_SSE  ...  Location_Townsville  \\\n",
       "0                   0                0  ...                    0   \n",
       "1                   0                0  ...                    0   \n",
       "2                   0                0  ...                    0   \n",
       "3                   0                0  ...                    0   \n",
       "4                   0                0  ...                    0   \n",
       "...               ...              ...  ...                  ...   \n",
       "63749               0                0  ...                    0   \n",
       "63750               0                0  ...                    0   \n",
       "63751               0                0  ...                    0   \n",
       "63752               0                0  ...                    0   \n",
       "63753               0                0  ...                    0   \n",
       "\n",
       "       Location_Tuggeranong  Location_Uluru  Location_WaggaWagga  \\\n",
       "0                         0               0                    0   \n",
       "1                         0               0                    0   \n",
       "2                         0               0                    0   \n",
       "3                         0               0                    0   \n",
       "4                         0               0                    0   \n",
       "...                     ...             ...                  ...   \n",
       "63749                     0               0                    0   \n",
       "63750                     0               0                    0   \n",
       "63751                     0               0                    0   \n",
       "63752                     0               0                    0   \n",
       "63753                     0               0                    0   \n",
       "\n",
       "       Location_Walpole  Location_Watsonia  Location_Williamtown  \\\n",
       "0                     0                  0                     0   \n",
       "1                     0                  0                     0   \n",
       "2                     0                  0                     0   \n",
       "3                     0                  0                     0   \n",
       "4                     0                  0                     0   \n",
       "...                 ...                ...                   ...   \n",
       "63749                 0                  0                     0   \n",
       "63750                 0                  0                     0   \n",
       "63751                 0                  0                     0   \n",
       "63752                 0                  0                     0   \n",
       "63753                 1                  0                     0   \n",
       "\n",
       "       Location_Witchcliffe  Location_Wollongong  Location_Woomera  \n",
       "0                         0                    0                 0  \n",
       "1                         0                    0                 0  \n",
       "2                         0                    0                 0  \n",
       "3                         0                    0                 0  \n",
       "4                         0                    0                 0  \n",
       "...                     ...                  ...               ...  \n",
       "63749                     0                    0                 0  \n",
       "63750                     0                    0                 0  \n",
       "63751                     0                    0                 0  \n",
       "63752                     0                    0                 0  \n",
       "63753                     0                    0                 0  \n",
       "\n",
       "[63754 rows x 95 columns]"
      ]
     },
     "execution_count": 16,
     "metadata": {},
     "output_type": "execute_result"
    }
   ],
   "source": [
    "dummy_cat=pd.get_dummies(df3,drop_first=True)\n",
    "dummy_cat"
   ]
  },
  {
   "cell_type": "code",
   "execution_count": 19,
   "id": "-TyGRj4gupEq",
   "metadata": {
    "executionInfo": {
     "elapsed": 5,
     "status": "ok",
     "timestamp": 1637819585194,
     "user": {
      "displayName": "Daniel Pong",
      "photoUrl": "https://lh3.googleusercontent.com/a/default-user=s64",
      "userId": "03877663975026177201"
     },
     "user_tz": -480
    },
    "id": "-TyGRj4gupEq"
   },
   "outputs": [],
   "source": [
    "complete_data = pd.concat([df2,dummy_cat], axis=1)"
   ]
  },
  {
   "cell_type": "markdown",
   "id": "MUcorjAT_y32",
   "metadata": {
    "id": "MUcorjAT_y32"
   },
   "source": []
  },
  {
   "cell_type": "code",
   "execution_count": 20,
   "id": "aS6hzQvlvKBs",
   "metadata": {
    "colab": {
     "base_uri": "https://localhost:8080/",
     "height": 443
    },
    "executionInfo": {
     "elapsed": 306,
     "status": "ok",
     "timestamp": 1637819590207,
     "user": {
      "displayName": "Daniel Pong",
      "photoUrl": "https://lh3.googleusercontent.com/a/default-user=s64",
      "userId": "03877663975026177201"
     },
     "user_tz": -480
    },
    "id": "aS6hzQvlvKBs",
    "outputId": "a2e77d31-4a5f-48d1-ccea-7fa310b4e936"
   },
   "outputs": [
    {
     "data": {
      "text/html": [
       "<div>\n",
       "<style scoped>\n",
       "    .dataframe tbody tr th:only-of-type {\n",
       "        vertical-align: middle;\n",
       "    }\n",
       "\n",
       "    .dataframe tbody tr th {\n",
       "        vertical-align: top;\n",
       "    }\n",
       "\n",
       "    .dataframe thead th {\n",
       "        text-align: right;\n",
       "    }\n",
       "</style>\n",
       "<table border=\"1\" class=\"dataframe\">\n",
       "  <thead>\n",
       "    <tr style=\"text-align: right;\">\n",
       "      <th></th>\n",
       "      <th>MinTemp</th>\n",
       "      <th>MaxTemp</th>\n",
       "      <th>Rainfall</th>\n",
       "      <th>Evaporation</th>\n",
       "      <th>Sunshine</th>\n",
       "      <th>WindGustSpeed</th>\n",
       "      <th>WindSpeed9am</th>\n",
       "      <th>WindSpeed3pm</th>\n",
       "      <th>Humidity9am</th>\n",
       "      <th>Humidity3pm</th>\n",
       "      <th>...</th>\n",
       "      <th>Location_Townsville</th>\n",
       "      <th>Location_Tuggeranong</th>\n",
       "      <th>Location_Uluru</th>\n",
       "      <th>Location_WaggaWagga</th>\n",
       "      <th>Location_Walpole</th>\n",
       "      <th>Location_Watsonia</th>\n",
       "      <th>Location_Williamtown</th>\n",
       "      <th>Location_Witchcliffe</th>\n",
       "      <th>Location_Wollongong</th>\n",
       "      <th>Location_Woomera</th>\n",
       "    </tr>\n",
       "  </thead>\n",
       "  <tbody>\n",
       "    <tr>\n",
       "      <th>0</th>\n",
       "      <td>9.7</td>\n",
       "      <td>31.9</td>\n",
       "      <td>0.0</td>\n",
       "      <td>5.144725</td>\n",
       "      <td>6.493488</td>\n",
       "      <td>80.0</td>\n",
       "      <td>7.0</td>\n",
       "      <td>28.0</td>\n",
       "      <td>42.0</td>\n",
       "      <td>9.0</td>\n",
       "      <td>...</td>\n",
       "      <td>0</td>\n",
       "      <td>0</td>\n",
       "      <td>0</td>\n",
       "      <td>0</td>\n",
       "      <td>0</td>\n",
       "      <td>0</td>\n",
       "      <td>0</td>\n",
       "      <td>0</td>\n",
       "      <td>0</td>\n",
       "      <td>0</td>\n",
       "    </tr>\n",
       "    <tr>\n",
       "      <th>1</th>\n",
       "      <td>13.4</td>\n",
       "      <td>30.4</td>\n",
       "      <td>0.0</td>\n",
       "      <td>5.144725</td>\n",
       "      <td>6.493488</td>\n",
       "      <td>30.0</td>\n",
       "      <td>17.0</td>\n",
       "      <td>6.0</td>\n",
       "      <td>48.0</td>\n",
       "      <td>22.0</td>\n",
       "      <td>...</td>\n",
       "      <td>0</td>\n",
       "      <td>0</td>\n",
       "      <td>0</td>\n",
       "      <td>0</td>\n",
       "      <td>0</td>\n",
       "      <td>0</td>\n",
       "      <td>0</td>\n",
       "      <td>0</td>\n",
       "      <td>0</td>\n",
       "      <td>0</td>\n",
       "    </tr>\n",
       "    <tr>\n",
       "      <th>2</th>\n",
       "      <td>15.9</td>\n",
       "      <td>21.7</td>\n",
       "      <td>2.2</td>\n",
       "      <td>5.144725</td>\n",
       "      <td>6.493488</td>\n",
       "      <td>31.0</td>\n",
       "      <td>15.0</td>\n",
       "      <td>13.0</td>\n",
       "      <td>89.0</td>\n",
       "      <td>91.0</td>\n",
       "      <td>...</td>\n",
       "      <td>0</td>\n",
       "      <td>0</td>\n",
       "      <td>0</td>\n",
       "      <td>0</td>\n",
       "      <td>0</td>\n",
       "      <td>0</td>\n",
       "      <td>0</td>\n",
       "      <td>0</td>\n",
       "      <td>0</td>\n",
       "      <td>0</td>\n",
       "    </tr>\n",
       "    <tr>\n",
       "      <th>3</th>\n",
       "      <td>15.9</td>\n",
       "      <td>18.6</td>\n",
       "      <td>15.6</td>\n",
       "      <td>5.144725</td>\n",
       "      <td>6.493488</td>\n",
       "      <td>61.0</td>\n",
       "      <td>28.0</td>\n",
       "      <td>28.0</td>\n",
       "      <td>76.0</td>\n",
       "      <td>93.0</td>\n",
       "      <td>...</td>\n",
       "      <td>0</td>\n",
       "      <td>0</td>\n",
       "      <td>0</td>\n",
       "      <td>0</td>\n",
       "      <td>0</td>\n",
       "      <td>0</td>\n",
       "      <td>0</td>\n",
       "      <td>0</td>\n",
       "      <td>0</td>\n",
       "      <td>0</td>\n",
       "    </tr>\n",
       "    <tr>\n",
       "      <th>4</th>\n",
       "      <td>14.1</td>\n",
       "      <td>20.9</td>\n",
       "      <td>0.0</td>\n",
       "      <td>5.144725</td>\n",
       "      <td>6.493488</td>\n",
       "      <td>22.0</td>\n",
       "      <td>11.0</td>\n",
       "      <td>9.0</td>\n",
       "      <td>69.0</td>\n",
       "      <td>82.0</td>\n",
       "      <td>...</td>\n",
       "      <td>0</td>\n",
       "      <td>0</td>\n",
       "      <td>0</td>\n",
       "      <td>0</td>\n",
       "      <td>0</td>\n",
       "      <td>0</td>\n",
       "      <td>0</td>\n",
       "      <td>0</td>\n",
       "      <td>0</td>\n",
       "      <td>0</td>\n",
       "    </tr>\n",
       "    <tr>\n",
       "      <th>...</th>\n",
       "      <td>...</td>\n",
       "      <td>...</td>\n",
       "      <td>...</td>\n",
       "      <td>...</td>\n",
       "      <td>...</td>\n",
       "      <td>...</td>\n",
       "      <td>...</td>\n",
       "      <td>...</td>\n",
       "      <td>...</td>\n",
       "      <td>...</td>\n",
       "      <td>...</td>\n",
       "      <td>...</td>\n",
       "      <td>...</td>\n",
       "      <td>...</td>\n",
       "      <td>...</td>\n",
       "      <td>...</td>\n",
       "      <td>...</td>\n",
       "      <td>...</td>\n",
       "      <td>...</td>\n",
       "      <td>...</td>\n",
       "      <td>...</td>\n",
       "    </tr>\n",
       "    <tr>\n",
       "      <th>63749</th>\n",
       "      <td>5.1</td>\n",
       "      <td>26.9</td>\n",
       "      <td>0.0</td>\n",
       "      <td>6.400000</td>\n",
       "      <td>11.500000</td>\n",
       "      <td>30.0</td>\n",
       "      <td>17.0</td>\n",
       "      <td>11.0</td>\n",
       "      <td>23.0</td>\n",
       "      <td>9.0</td>\n",
       "      <td>...</td>\n",
       "      <td>0</td>\n",
       "      <td>0</td>\n",
       "      <td>0</td>\n",
       "      <td>0</td>\n",
       "      <td>0</td>\n",
       "      <td>0</td>\n",
       "      <td>0</td>\n",
       "      <td>0</td>\n",
       "      <td>0</td>\n",
       "      <td>0</td>\n",
       "    </tr>\n",
       "    <tr>\n",
       "      <th>63750</th>\n",
       "      <td>22.2</td>\n",
       "      <td>32.0</td>\n",
       "      <td>0.0</td>\n",
       "      <td>7.000000</td>\n",
       "      <td>7.800000</td>\n",
       "      <td>41.0</td>\n",
       "      <td>22.0</td>\n",
       "      <td>24.0</td>\n",
       "      <td>59.0</td>\n",
       "      <td>43.0</td>\n",
       "      <td>...</td>\n",
       "      <td>0</td>\n",
       "      <td>0</td>\n",
       "      <td>0</td>\n",
       "      <td>0</td>\n",
       "      <td>0</td>\n",
       "      <td>0</td>\n",
       "      <td>0</td>\n",
       "      <td>0</td>\n",
       "      <td>0</td>\n",
       "      <td>0</td>\n",
       "    </tr>\n",
       "    <tr>\n",
       "      <th>63751</th>\n",
       "      <td>8.3</td>\n",
       "      <td>22.2</td>\n",
       "      <td>0.0</td>\n",
       "      <td>7.200000</td>\n",
       "      <td>8.700000</td>\n",
       "      <td>54.0</td>\n",
       "      <td>17.0</td>\n",
       "      <td>30.0</td>\n",
       "      <td>77.0</td>\n",
       "      <td>35.0</td>\n",
       "      <td>...</td>\n",
       "      <td>0</td>\n",
       "      <td>0</td>\n",
       "      <td>0</td>\n",
       "      <td>0</td>\n",
       "      <td>0</td>\n",
       "      <td>0</td>\n",
       "      <td>0</td>\n",
       "      <td>0</td>\n",
       "      <td>0</td>\n",
       "      <td>0</td>\n",
       "    </tr>\n",
       "    <tr>\n",
       "      <th>63752</th>\n",
       "      <td>13.9</td>\n",
       "      <td>29.3</td>\n",
       "      <td>0.0</td>\n",
       "      <td>5.144725</td>\n",
       "      <td>7.900000</td>\n",
       "      <td>44.0</td>\n",
       "      <td>9.0</td>\n",
       "      <td>26.0</td>\n",
       "      <td>60.0</td>\n",
       "      <td>50.0</td>\n",
       "      <td>...</td>\n",
       "      <td>0</td>\n",
       "      <td>0</td>\n",
       "      <td>0</td>\n",
       "      <td>0</td>\n",
       "      <td>0</td>\n",
       "      <td>0</td>\n",
       "      <td>0</td>\n",
       "      <td>0</td>\n",
       "      <td>0</td>\n",
       "      <td>0</td>\n",
       "    </tr>\n",
       "    <tr>\n",
       "      <th>63753</th>\n",
       "      <td>17.9</td>\n",
       "      <td>27.9</td>\n",
       "      <td>1.6</td>\n",
       "      <td>5.144725</td>\n",
       "      <td>6.493488</td>\n",
       "      <td>41.0</td>\n",
       "      <td>15.0</td>\n",
       "      <td>24.0</td>\n",
       "      <td>87.0</td>\n",
       "      <td>54.0</td>\n",
       "      <td>...</td>\n",
       "      <td>0</td>\n",
       "      <td>0</td>\n",
       "      <td>0</td>\n",
       "      <td>0</td>\n",
       "      <td>1</td>\n",
       "      <td>0</td>\n",
       "      <td>0</td>\n",
       "      <td>0</td>\n",
       "      <td>0</td>\n",
       "      <td>0</td>\n",
       "    </tr>\n",
       "  </tbody>\n",
       "</table>\n",
       "<p>63754 rows × 111 columns</p>\n",
       "</div>"
      ],
      "text/plain": [
       "       MinTemp  MaxTemp  Rainfall  Evaporation   Sunshine  WindGustSpeed  \\\n",
       "0          9.7     31.9       0.0     5.144725   6.493488           80.0   \n",
       "1         13.4     30.4       0.0     5.144725   6.493488           30.0   \n",
       "2         15.9     21.7       2.2     5.144725   6.493488           31.0   \n",
       "3         15.9     18.6      15.6     5.144725   6.493488           61.0   \n",
       "4         14.1     20.9       0.0     5.144725   6.493488           22.0   \n",
       "...        ...      ...       ...          ...        ...            ...   \n",
       "63749      5.1     26.9       0.0     6.400000  11.500000           30.0   \n",
       "63750     22.2     32.0       0.0     7.000000   7.800000           41.0   \n",
       "63751      8.3     22.2       0.0     7.200000   8.700000           54.0   \n",
       "63752     13.9     29.3       0.0     5.144725   7.900000           44.0   \n",
       "63753     17.9     27.9       1.6     5.144725   6.493488           41.0   \n",
       "\n",
       "       WindSpeed9am  WindSpeed3pm  Humidity9am  Humidity3pm  ...  \\\n",
       "0               7.0          28.0         42.0          9.0  ...   \n",
       "1              17.0           6.0         48.0         22.0  ...   \n",
       "2              15.0          13.0         89.0         91.0  ...   \n",
       "3              28.0          28.0         76.0         93.0  ...   \n",
       "4              11.0           9.0         69.0         82.0  ...   \n",
       "...             ...           ...          ...          ...  ...   \n",
       "63749          17.0          11.0         23.0          9.0  ...   \n",
       "63750          22.0          24.0         59.0         43.0  ...   \n",
       "63751          17.0          30.0         77.0         35.0  ...   \n",
       "63752           9.0          26.0         60.0         50.0  ...   \n",
       "63753          15.0          24.0         87.0         54.0  ...   \n",
       "\n",
       "       Location_Townsville  Location_Tuggeranong  Location_Uluru  \\\n",
       "0                        0                     0               0   \n",
       "1                        0                     0               0   \n",
       "2                        0                     0               0   \n",
       "3                        0                     0               0   \n",
       "4                        0                     0               0   \n",
       "...                    ...                   ...             ...   \n",
       "63749                    0                     0               0   \n",
       "63750                    0                     0               0   \n",
       "63751                    0                     0               0   \n",
       "63752                    0                     0               0   \n",
       "63753                    0                     0               0   \n",
       "\n",
       "       Location_WaggaWagga  Location_Walpole  Location_Watsonia  \\\n",
       "0                        0                 0                  0   \n",
       "1                        0                 0                  0   \n",
       "2                        0                 0                  0   \n",
       "3                        0                 0                  0   \n",
       "4                        0                 0                  0   \n",
       "...                    ...               ...                ...   \n",
       "63749                    0                 0                  0   \n",
       "63750                    0                 0                  0   \n",
       "63751                    0                 0                  0   \n",
       "63752                    0                 0                  0   \n",
       "63753                    0                 1                  0   \n",
       "\n",
       "       Location_Williamtown  Location_Witchcliffe  Location_Wollongong  \\\n",
       "0                         0                     0                    0   \n",
       "1                         0                     0                    0   \n",
       "2                         0                     0                    0   \n",
       "3                         0                     0                    0   \n",
       "4                         0                     0                    0   \n",
       "...                     ...                   ...                  ...   \n",
       "63749                     0                     0                    0   \n",
       "63750                     0                     0                    0   \n",
       "63751                     0                     0                    0   \n",
       "63752                     0                     0                    0   \n",
       "63753                     0                     0                    0   \n",
       "\n",
       "       Location_Woomera  \n",
       "0                     0  \n",
       "1                     0  \n",
       "2                     0  \n",
       "3                     0  \n",
       "4                     0  \n",
       "...                 ...  \n",
       "63749                 0  \n",
       "63750                 0  \n",
       "63751                 0  \n",
       "63752                 0  \n",
       "63753                 0  \n",
       "\n",
       "[63754 rows x 111 columns]"
      ]
     },
     "execution_count": 20,
     "metadata": {},
     "output_type": "execute_result"
    }
   ],
   "source": [
    "complete_data"
   ]
  },
  {
   "cell_type": "code",
   "execution_count": 21,
   "id": "P-Ze9l5y7KY2",
   "metadata": {
    "executionInfo": {
     "elapsed": 8,
     "status": "ok",
     "timestamp": 1637819593533,
     "user": {
      "displayName": "Daniel Pong",
      "photoUrl": "https://lh3.googleusercontent.com/a/default-user=s64",
      "userId": "03877663975026177201"
     },
     "user_tz": -480
    },
    "id": "P-Ze9l5y7KY2"
   },
   "outputs": [],
   "source": [
    "X = complete_data.drop(columns=[\"RainTomorrow_Yes\"])\n",
    "y = complete_data.RainTomorrow_Yes"
   ]
  },
  {
   "cell_type": "code",
   "execution_count": 22,
   "id": "gyU3NHlC8y9b",
   "metadata": {
    "executionInfo": {
     "elapsed": 359,
     "status": "ok",
     "timestamp": 1637819595400,
     "user": {
      "displayName": "Daniel Pong",
      "photoUrl": "https://lh3.googleusercontent.com/a/default-user=s64",
      "userId": "03877663975026177201"
     },
     "user_tz": -480
    },
    "id": "gyU3NHlC8y9b"
   },
   "outputs": [],
   "source": [
    "from sklearn.preprocessing import StandardScaler\n",
    "sc = StandardScaler()\n",
    "X = sc.fit_transform(X)"
   ]
  },
  {
   "cell_type": "code",
   "execution_count": 23,
   "id": "YeI8_YLO8zAj",
   "metadata": {
    "executionInfo": {
     "elapsed": 6,
     "status": "ok",
     "timestamp": 1637819596470,
     "user": {
      "displayName": "Daniel Pong",
      "photoUrl": "https://lh3.googleusercontent.com/a/default-user=s64",
      "userId": "03877663975026177201"
     },
     "user_tz": -480
    },
    "id": "YeI8_YLO8zAj"
   },
   "outputs": [],
   "source": [
    "from sklearn.model_selection import train_test_split\n",
    "X_train, X_test, y_train, y_test = train_test_split(X, y, test_size=0.3, random_state=42)"
   ]
  },
  {
   "cell_type": "code",
   "execution_count": 24,
   "id": "k90CEqsX_NdH",
   "metadata": {
    "colab": {
     "base_uri": "https://localhost:8080/"
    },
    "executionInfo": {
     "elapsed": 1370,
     "status": "ok",
     "timestamp": 1637819599602,
     "user": {
      "displayName": "Daniel Pong",
      "photoUrl": "https://lh3.googleusercontent.com/a/default-user=s64",
      "userId": "03877663975026177201"
     },
     "user_tz": -480
    },
    "id": "k90CEqsX_NdH",
    "outputId": "71941dac-1aae-478a-d4b7-09c69b8a2144"
   },
   "outputs": [
    {
     "data": {
      "text/plain": [
       "LogisticRegression()"
      ]
     },
     "execution_count": 24,
     "metadata": {},
     "output_type": "execute_result"
    }
   ],
   "source": [
    "#Use logistic regression to train the model\n",
    "from sklearn.linear_model import LogisticRegression\n",
    "logmodel = LogisticRegression()\n",
    "logmodel.fit(X_train, y_train)"
   ]
  },
  {
   "cell_type": "code",
   "execution_count": 25,
   "id": "_vKEKPNM_S_v",
   "metadata": {
    "colab": {
     "base_uri": "https://localhost:8080/"
    },
    "executionInfo": {
     "elapsed": 9,
     "status": "ok",
     "timestamp": 1637819600252,
     "user": {
      "displayName": "Daniel Pong",
      "photoUrl": "https://lh3.googleusercontent.com/a/default-user=s64",
      "userId": "03877663975026177201"
     },
     "user_tz": -480
    },
    "id": "_vKEKPNM_S_v",
    "outputId": "4c58b17e-fa54-4063-c751-760419c070f3"
   },
   "outputs": [
    {
     "data": {
      "text/plain": [
       "array([0, 1, 0, ..., 0, 1, 1], dtype=uint8)"
      ]
     },
     "execution_count": 25,
     "metadata": {},
     "output_type": "execute_result"
    }
   ],
   "source": [
    "predictions = logmodel.predict(X_test)\n",
    "predictions"
   ]
  },
  {
   "cell_type": "code",
   "execution_count": 26,
   "id": "LIbw8O06_VJ5",
   "metadata": {
    "colab": {
     "base_uri": "https://localhost:8080/"
    },
    "executionInfo": {
     "elapsed": 15,
     "status": "ok",
     "timestamp": 1637819601236,
     "user": {
      "displayName": "Daniel Pong",
      "photoUrl": "https://lh3.googleusercontent.com/a/default-user=s64",
      "userId": "03877663975026177201"
     },
     "user_tz": -480
    },
    "id": "LIbw8O06_VJ5",
    "outputId": "547a8ee6-e186-4dba-8c31-a0bc3b150f1a"
   },
   "outputs": [
    {
     "data": {
      "text/plain": [
       "0.7889371046165107"
      ]
     },
     "execution_count": 26,
     "metadata": {},
     "output_type": "execute_result"
    }
   ],
   "source": [
    "from sklearn.metrics import accuracy_score\n",
    "accuracy_score(y_test, predictions)"
   ]
  },
  {
   "cell_type": "code",
   "execution_count": 27,
   "id": "uxccHO1p_W6J",
   "metadata": {
    "colab": {
     "base_uri": "https://localhost:8080/"
    },
    "executionInfo": {
     "elapsed": 5,
     "status": "ok",
     "timestamp": 1637819602056,
     "user": {
      "displayName": "Daniel Pong",
      "photoUrl": "https://lh3.googleusercontent.com/a/default-user=s64",
      "userId": "03877663975026177201"
     },
     "user_tz": -480
    },
    "id": "uxccHO1p_W6J",
    "outputId": "0a393e74-fa0d-41c6-f4eb-d23ff73e42c8"
   },
   "outputs": [
    {
     "data": {
      "text/plain": [
       "array([[7699, 1899],\n",
       "       [2138, 7391]], dtype=int64)"
      ]
     },
     "execution_count": 27,
     "metadata": {},
     "output_type": "execute_result"
    }
   ],
   "source": [
    "from sklearn.metrics import confusion_matrix\n",
    "confusion_matrix(y_test, predictions)"
   ]
  },
  {
   "cell_type": "code",
   "execution_count": 28,
   "id": "n2aJiKEm_aSP",
   "metadata": {
    "executionInfo": {
     "elapsed": 876,
     "status": "ok",
     "timestamp": 1637819603767,
     "user": {
      "displayName": "Daniel Pong",
      "photoUrl": "https://lh3.googleusercontent.com/a/default-user=s64",
      "userId": "03877663975026177201"
     },
     "user_tz": -480
    },
    "id": "n2aJiKEm_aSP"
   },
   "outputs": [],
   "source": [
    "from sklearn.decomposition import PCA\n",
    "pca = PCA(n_components = 20)\n",
    "X_train_pca = pca.fit_transform(X_train)\n",
    "X_test_pca = pca.transform(X_test)"
   ]
  },
  {
   "cell_type": "code",
   "execution_count": 29,
   "id": "zkKTyhFP_2U-",
   "metadata": {
    "colab": {
     "base_uri": "https://localhost:8080/"
    },
    "executionInfo": {
     "elapsed": 17,
     "status": "ok",
     "timestamp": 1637819603769,
     "user": {
      "displayName": "Daniel Pong",
      "photoUrl": "https://lh3.googleusercontent.com/a/default-user=s64",
      "userId": "03877663975026177201"
     },
     "user_tz": -480
    },
    "id": "zkKTyhFP_2U-",
    "outputId": "41be1e35-58ba-43d1-98dd-1a3765e4ab78"
   },
   "outputs": [
    {
     "data": {
      "text/plain": [
       "LogisticRegression(random_state=0)"
      ]
     },
     "execution_count": 29,
     "metadata": {},
     "output_type": "execute_result"
    }
   ],
   "source": [
    "logmodel_PCA = LogisticRegression(random_state=0)\n",
    "logmodel_PCA.fit(X_train_pca, y_train)"
   ]
  },
  {
   "cell_type": "code",
   "execution_count": 30,
   "id": "pLKmJ6tp_7KQ",
   "metadata": {
    "executionInfo": {
     "elapsed": 12,
     "status": "ok",
     "timestamp": 1637819603771,
     "user": {
      "displayName": "Daniel Pong",
      "photoUrl": "https://lh3.googleusercontent.com/a/default-user=s64",
      "userId": "03877663975026177201"
     },
     "user_tz": -480
    },
    "id": "pLKmJ6tp_7KQ"
   },
   "outputs": [],
   "source": [
    "predictions_PCA = logmodel_PCA.predict(X_test_pca)"
   ]
  },
  {
   "cell_type": "code",
   "execution_count": 31,
   "id": "mAuOoLIxAGh2",
   "metadata": {
    "colab": {
     "base_uri": "https://localhost:8080/"
    },
    "executionInfo": {
     "elapsed": 281,
     "status": "ok",
     "timestamp": 1637819605894,
     "user": {
      "displayName": "Daniel Pong",
      "photoUrl": "https://lh3.googleusercontent.com/a/default-user=s64",
      "userId": "03877663975026177201"
     },
     "user_tz": -480
    },
    "id": "mAuOoLIxAGh2",
    "outputId": "a95338df-623e-4b4d-e145-c922a9bccb52"
   },
   "outputs": [
    {
     "data": {
      "text/plain": [
       "0.7599205311862812"
      ]
     },
     "execution_count": 31,
     "metadata": {},
     "output_type": "execute_result"
    }
   ],
   "source": [
    "accuracy_score(y_test, predictions_PCA)"
   ]
  },
  {
   "cell_type": "code",
   "execution_count": 32,
   "id": "6BCcQTmpALwi",
   "metadata": {
    "colab": {
     "base_uri": "https://localhost:8080/"
    },
    "executionInfo": {
     "elapsed": 9,
     "status": "ok",
     "timestamp": 1637819606190,
     "user": {
      "displayName": "Daniel Pong",
      "photoUrl": "https://lh3.googleusercontent.com/a/default-user=s64",
      "userId": "03877663975026177201"
     },
     "user_tz": -480
    },
    "id": "6BCcQTmpALwi",
    "outputId": "b3bf8389-d02a-4376-b812-9e68852f1f80"
   },
   "outputs": [
    {
     "data": {
      "text/plain": [
       "array([[7330, 2268],\n",
       "       [2324, 7205]], dtype=int64)"
      ]
     },
     "execution_count": 32,
     "metadata": {},
     "output_type": "execute_result"
    }
   ],
   "source": [
    "confusion_matrix(y_test, predictions_PCA)"
   ]
  },
  {
   "cell_type": "code",
   "execution_count": 33,
   "id": "xKO018a1ASZS",
   "metadata": {
    "colab": {
     "base_uri": "https://localhost:8080/"
    },
    "executionInfo": {
     "elapsed": 18,
     "status": "ok",
     "timestamp": 1637819608257,
     "user": {
      "displayName": "Daniel Pong",
      "photoUrl": "https://lh3.googleusercontent.com/a/default-user=s64",
      "userId": "03877663975026177201"
     },
     "user_tz": -480
    },
    "id": "xKO018a1ASZS",
    "outputId": "5c24b82c-9e2b-462e-ba3b-7610d2cc4db0"
   },
   "outputs": [
    {
     "name": "stdout",
     "output_type": "stream",
     "text": [
      "Report\n",
      "               precision    recall  f1-score   support\n",
      "\n",
      "           0       0.76      0.76      0.76      9598\n",
      "           1       0.76      0.76      0.76      9529\n",
      "\n",
      "    accuracy                           0.76     19127\n",
      "   macro avg       0.76      0.76      0.76     19127\n",
      "weighted avg       0.76      0.76      0.76     19127\n",
      "\n"
     ]
    }
   ],
   "source": [
    "from sklearn.metrics import classification_report\n",
    "print(f\"Report\\n {classification_report(y_test,predictions_PCA)}\")"
   ]
  },
  {
   "cell_type": "code",
   "execution_count": null,
   "id": "hjDrBCXQAbe8",
   "metadata": {
    "id": "hjDrBCXQAbe8"
   },
   "outputs": [],
   "source": []
  },
  {
   "cell_type": "code",
   "execution_count": null,
   "id": "1QPWqom9GVgc",
   "metadata": {
    "id": "1QPWqom9GVgc"
   },
   "outputs": [],
   "source": [
    "#Use KNN Classifier to train the model\n",
    "from sklearn.neighbors import KNeighborsClassifier\n",
    "\n",
    "#import metrics model to check the accuracy \n",
    "from sklearn import metrics\n",
    "\n",
    "#Try running from k=1 through 25 and record testing accuracy\n",
    "k_range = range(1000,1001)\n",
    "scores = {}\n",
    "scores_list = []\n",
    "for k in k_range:\n",
    "        knn = KNeighborsClassifier(n_neighbors=k)\n",
    "        knn.fit(X_train_pca, y_train)\n",
    "        y_pred=knn.predict(X_test_pca)\n",
    "        scores[k] = metrics.accuracy_score(y_test,y_pred)\n",
    "        scores_list.append(metrics.accuracy_score(y_test,y_pred))"
   ]
  },
  {
   "cell_type": "code",
   "execution_count": null,
   "id": "WsT8wXWcGWwW",
   "metadata": {
    "colab": {
     "base_uri": "https://localhost:8080/"
    },
    "executionInfo": {
     "elapsed": 41,
     "status": "ok",
     "timestamp": 1637743566236,
     "user": {
      "displayName": "Daniel Pong",
      "photoUrl": "https://lh3.googleusercontent.com/a/default-user=s64",
      "userId": "03877663975026177201"
     },
     "user_tz": -480
    },
    "id": "WsT8wXWcGWwW",
    "outputId": "1c5b93a9-749e-4dfe-9744-c6b92601cd85"
   },
   "outputs": [
    {
     "data": {
      "text/plain": [
       "{1: 0.6959454160458003,\n",
       " 2: 0.6867696651243039,\n",
       " 3: 0.7258254254568269,\n",
       " 4: 0.7200219590620344,\n",
       " 5: 0.7364128303662458,\n",
       " 6: 0.733354246725747,\n",
       " 7: 0.7473923613834209,\n",
       " 8: 0.7450396047368834,\n",
       " 9: 0.752411575562701,\n",
       " 10: 0.750529370245471,\n",
       " 11: 0.7559407105325072,\n",
       " 12: 0.7528037016704572,\n",
       " 13: 0.7587640185083523,\n",
       " 14: 0.7588424437299035,\n",
       " 15: 0.7623715786997098,\n",
       " 16: 0.7607246490471335,\n",
       " 17: 0.7636263822445298,\n",
       " 18: 0.762450003921261,\n",
       " 19: 0.7639400831307348}"
      ]
     },
     "execution_count": 146,
     "metadata": {},
     "output_type": "execute_result"
    }
   ],
   "source": [
    "scores"
   ]
  },
  {
   "cell_type": "code",
   "execution_count": null,
   "id": "1cYDYswvG-cf",
   "metadata": {
    "colab": {
     "base_uri": "https://localhost:8080/"
    },
    "executionInfo": {
     "elapsed": 13,
     "status": "ok",
     "timestamp": 1637743853997,
     "user": {
      "displayName": "Daniel Pong",
      "photoUrl": "https://lh3.googleusercontent.com/a/default-user=s64",
      "userId": "03877663975026177201"
     },
     "user_tz": -480
    },
    "id": "1cYDYswvG-cf",
    "outputId": "2016244f-456d-45cf-a82a-e9cf609cffc6"
   },
   "outputs": [
    {
     "data": {
      "text/plain": [
       "{20: 0.7638616579091836,\n",
       " 21: 0.7652733118971061,\n",
       " 22: 0.7640185083522861,\n",
       " 23: 0.7650380362324524,\n",
       " 24: 0.7648811857893498,\n",
       " 25: 0.7667633911065799,\n",
       " 26: 0.7660575641126186,\n",
       " 27: 0.7676260685436437,\n",
       " 28: 0.7675476433220924,\n",
       " 29: 0.7679397694298487,\n",
       " 30: 0.7678613442082974,\n",
       " 31: 0.7673907928789899,\n",
       " 32: 0.7687240216453611,\n",
       " 33: 0.7699788251901811,\n",
       " 34: 0.7695082738608736,\n",
       " 35: 0.7696651243039762,\n",
       " 36: 0.7681750450945024,\n",
       " 37: 0.7687240216453611,\n",
       " 38: 0.7684103207591562,\n",
       " 39: 0.7678613442082974}"
      ]
     },
     "execution_count": 148,
     "metadata": {},
     "output_type": "execute_result"
    }
   ],
   "source": [
    "scores"
   ]
  },
  {
   "cell_type": "code",
   "execution_count": null,
   "id": "MKCH6FYrIE0O",
   "metadata": {
    "colab": {
     "base_uri": "https://localhost:8080/"
    },
    "executionInfo": {
     "elapsed": 35,
     "status": "ok",
     "timestamp": 1637743968098,
     "user": {
      "displayName": "Daniel Pong",
      "photoUrl": "https://lh3.googleusercontent.com/a/default-user=s64",
      "userId": "03877663975026177201"
     },
     "user_tz": -480
    },
    "id": "MKCH6FYrIE0O",
    "outputId": "f3ccdb72-345e-47f7-8685-d973be0832c1"
   },
   "outputs": [
    {
     "data": {
      "text/plain": [
       "{1000: 0.7576660654066347}"
      ]
     },
     "execution_count": 152,
     "metadata": {},
     "output_type": "execute_result"
    }
   ],
   "source": [
    "scores"
   ]
  },
  {
   "cell_type": "code",
   "execution_count": null,
   "id": "pS5116PPKdbj",
   "metadata": {
    "id": "pS5116PPKdbj"
   },
   "outputs": [],
   "source": []
  },
  {
   "cell_type": "code",
   "execution_count": 34,
   "id": "EDuuELSMU4mk",
   "metadata": {
    "colab": {
     "base_uri": "https://localhost:8080/"
    },
    "executionInfo": {
     "elapsed": 5722,
     "status": "ok",
     "timestamp": 1637820501782,
     "user": {
      "displayName": "Daniel Pong",
      "photoUrl": "https://lh3.googleusercontent.com/a/default-user=s64",
      "userId": "03877663975026177201"
     },
     "user_tz": -480
    },
    "id": "EDuuELSMU4mk",
    "outputId": "a2db8220-90f4-4ac8-96bb-a97506d8f797"
   },
   "outputs": [
    {
     "data": {
      "text/plain": [
       "RandomForestClassifier(n_estimators=20)"
      ]
     },
     "execution_count": 34,
     "metadata": {},
     "output_type": "execute_result"
    }
   ],
   "source": [
    "# Use Randomforest Classifier to the model\n",
    "from sklearn.ensemble import RandomForestClassifier\n",
    "classifier = RandomForestClassifier(n_estimators=20)\n",
    "classifier.fit(X_train_pca, y_train)"
   ]
  },
  {
   "cell_type": "code",
   "execution_count": 35,
   "id": "lgH5qA-iVD0U",
   "metadata": {
    "executionInfo": {
     "elapsed": 29,
     "status": "ok",
     "timestamp": 1637820501783,
     "user": {
      "displayName": "Daniel Pong",
      "photoUrl": "https://lh3.googleusercontent.com/a/default-user=s64",
      "userId": "03877663975026177201"
     },
     "user_tz": -480
    },
    "id": "lgH5qA-iVD0U"
   },
   "outputs": [],
   "source": [
    "y_pred = classifier.predict(X_test_pca)"
   ]
  },
  {
   "cell_type": "code",
   "execution_count": 36,
   "id": "ztnlOXUUVMWA",
   "metadata": {
    "colab": {
     "base_uri": "https://localhost:8080/"
    },
    "executionInfo": {
     "elapsed": 26,
     "status": "ok",
     "timestamp": 1637820501784,
     "user": {
      "displayName": "Daniel Pong",
      "photoUrl": "https://lh3.googleusercontent.com/a/default-user=s64",
      "userId": "03877663975026177201"
     },
     "user_tz": -480
    },
    "id": "ztnlOXUUVMWA",
    "outputId": "5fd14ce1-d448-443d-b0cf-a6f5655db527"
   },
   "outputs": [
    {
     "data": {
      "text/plain": [
       "array([[7552, 2046],\n",
       "       [2502, 7027]], dtype=int64)"
      ]
     },
     "execution_count": 36,
     "metadata": {},
     "output_type": "execute_result"
    }
   ],
   "source": [
    "confusion_matrix(y_test, y_pred)"
   ]
  },
  {
   "cell_type": "code",
   "execution_count": 37,
   "id": "sFcQoyWkVVc7",
   "metadata": {
    "colab": {
     "base_uri": "https://localhost:8080/"
    },
    "executionInfo": {
     "elapsed": 20,
     "status": "ok",
     "timestamp": 1637820501785,
     "user": {
      "displayName": "Daniel Pong",
      "photoUrl": "https://lh3.googleusercontent.com/a/default-user=s64",
      "userId": "03877663975026177201"
     },
     "user_tz": -480
    },
    "id": "sFcQoyWkVVc7",
    "outputId": "1b8db8f3-4fe9-46c8-dff9-47da2b3e8ec3"
   },
   "outputs": [
    {
     "name": "stdout",
     "output_type": "stream",
     "text": [
      "Report\n",
      "               precision    recall  f1-score   support\n",
      "\n",
      "           0       0.75      0.79      0.77      9598\n",
      "           1       0.77      0.74      0.76      9529\n",
      "\n",
      "    accuracy                           0.76     19127\n",
      "   macro avg       0.76      0.76      0.76     19127\n",
      "weighted avg       0.76      0.76      0.76     19127\n",
      "\n"
     ]
    }
   ],
   "source": [
    "print(f\"Report\\n {classification_report(y_test,y_pred)}\")"
   ]
  },
  {
   "cell_type": "code",
   "execution_count": 38,
   "id": "FRPd-Yj7Vkiz",
   "metadata": {
    "colab": {
     "base_uri": "https://localhost:8080/"
    },
    "executionInfo": {
     "elapsed": 306,
     "status": "ok",
     "timestamp": 1637820508769,
     "user": {
      "displayName": "Daniel Pong",
      "photoUrl": "https://lh3.googleusercontent.com/a/default-user=s64",
      "userId": "03877663975026177201"
     },
     "user_tz": -480
    },
    "id": "FRPd-Yj7Vkiz",
    "outputId": "eb8feb30-d7c9-42d3-c0cc-7dafcefda910"
   },
   "outputs": [
    {
     "data": {
      "text/plain": [
       "0.7620416667058751"
      ]
     },
     "execution_count": 38,
     "metadata": {},
     "output_type": "execute_result"
    }
   ],
   "source": [
    "from sklearn.metrics import f1_score\n",
    "f1_score(y_test,y_pred,average='macro')"
   ]
  },
  {
   "cell_type": "code",
   "execution_count": null,
   "id": "OQ1O56jjYIAN",
   "metadata": {
    "colab": {
     "base_uri": "https://localhost:8080/"
    },
    "executionInfo": {
     "elapsed": 153186,
     "status": "ok",
     "timestamp": 1637748145499,
     "user": {
      "displayName": "Daniel Pong",
      "photoUrl": "https://lh3.googleusercontent.com/a/default-user=s64",
      "userId": "03877663975026177201"
     },
     "user_tz": -480
    },
    "id": "OQ1O56jjYIAN",
    "outputId": "d43ee070-3937-40cb-9d3b-a1dbc075d30c"
   },
   "outputs": [
    {
     "name": "stdout",
     "output_type": "stream",
     "text": [
      "i: 10 f1: 0.7472948554503247\n",
      "i: 100 f1: 0.7720492184220056\n",
      "i: 500 f1: 0.7741393987232158\n"
     ]
    }
   ],
   "source": [
    "for i in [10,100,500]:\n",
    "  classifier = RandomForestClassifier(n_estimators=i)\n",
    "  classifier.fit(X_train_pca, y_train)\n",
    "  y_pred = classifier.predict(X_test_pca)\n",
    "  confusion_matrix(y_test, y_pred)\n",
    "  k=f1_score(y_test,y_pred,average='macro')\n",
    "  print(\"i:\",i,\"f1:\",k)\n"
   ]
  },
  {
   "cell_type": "code",
   "execution_count": null,
   "id": "EIHwN8USYyUp",
   "metadata": {
    "colab": {
     "base_uri": "https://localhost:8080/"
    },
    "executionInfo": {
     "elapsed": 754137,
     "status": "ok",
     "timestamp": 1637748941595,
     "user": {
      "displayName": "Daniel Pong",
      "photoUrl": "https://lh3.googleusercontent.com/a/default-user=s64",
      "userId": "03877663975026177201"
     },
     "user_tz": -480
    },
    "id": "EIHwN8USYyUp",
    "outputId": "f55f005e-37d3-459f-94db-cfdeb5124769"
   },
   "outputs": [
    {
     "name": "stdout",
     "output_type": "stream",
     "text": [
      "i: 1000 f1: 0.7746614850494005\n",
      "i: 2000 f1: 0.7751839828456234\n"
     ]
    }
   ],
   "source": [
    "for i in [1000,2000]:\n",
    "    classifier = RandomForestClassifier(n_estimators=i)\n",
    "    classifier.fit(X_train_pca, y_train)\n",
    "    y_pred = classifier.predict(X_test_pca)\n",
    "    confusion_matrix(y_test, y_pred)\n",
    "    k=f1_score(y_test,y_pred,average='macro')\n",
    "    print(\"i:\",i,\"f1:\",k)"
   ]
  },
  {
   "cell_type": "code",
   "execution_count": 52,
   "id": "YUBUNjVHZh94",
   "metadata": {
    "colab": {
     "base_uri": "https://localhost:8080/"
    },
    "executionInfo": {
     "elapsed": 839494,
     "status": "ok",
     "timestamp": 1637821720205,
     "user": {
      "displayName": "Daniel Pong",
      "photoUrl": "https://lh3.googleusercontent.com/a/default-user=s64",
      "userId": "03877663975026177201"
     },
     "user_tz": -480
    },
    "id": "YUBUNjVHZh94",
    "outputId": "601e6991-09d6-4071-dcb5-b01ff27848b8"
   },
   "outputs": [
    {
     "name": "stdout",
     "output_type": "stream",
     "text": [
      "i: 2 f1: 0.7731996668456952\n",
      "i: 10 f1: 0.772258656346712\n",
      "i: 100 f1: 0.7605434074639721\n",
      "i: 500 f1: 0.7504920722375428\n",
      "i: 1000 f1: 0.7447631093325422\n"
     ]
    }
   ],
   "source": [
    "for i in [2,10,100,500,1000]:\n",
    "    classifier = RandomForestClassifier(n_estimators=1000, min_samples_leaf = i)\n",
    "    classifier.fit(X_train_pca, y_train)\n",
    "    y_pred = classifier.predict(X_test_pca)\n",
    "    confusion_matrix(y_test, y_pred)\n",
    "    k=f1_score(y_test,y_pred,average='macro')\n",
    "    print(\"i:\",i,\"f1:\",k)"
   ]
  },
  {
   "cell_type": "code",
   "execution_count": null,
   "id": "ozY1vL5uohhu",
   "metadata": {
    "id": "ozY1vL5uohhu"
   },
   "outputs": [],
   "source": []
  },
  {
   "cell_type": "code",
   "execution_count": 39,
   "id": "5gh9ExSRohpS",
   "metadata": {
    "executionInfo": {
     "elapsed": 6810,
     "status": "ok",
     "timestamp": 1637823065492,
     "user": {
      "displayName": "Daniel Pong",
      "photoUrl": "https://lh3.googleusercontent.com/a/default-user=s64",
      "userId": "03877663975026177201"
     },
     "user_tz": -480
    },
    "id": "5gh9ExSRohpS"
   },
   "outputs": [
    {
     "name": "stderr",
     "output_type": "stream",
     "text": [
      "C:\\Users\\User\\anaconda3\\lib\\site-packages\\xgboost\\sklearn.py:1224: UserWarning: The use of label encoder in XGBClassifier is deprecated and will be removed in a future release. To remove this warning, do the following: 1) Pass option use_label_encoder=False when constructing XGBClassifier object; and 2) Encode your labels (y) as integers starting with 0, i.e. 0, 1, 2, ..., [num_class - 1].\n",
      "  warnings.warn(label_encoder_deprecation_msg, UserWarning)\n"
     ]
    },
    {
     "name": "stdout",
     "output_type": "stream",
     "text": [
      "[15:37:12] WARNING: D:\\bld\\xgboost-split_1634712635879\\work\\src\\learner.cc:1115: Starting in XGBoost 1.3.0, the default evaluation metric used with the objective 'binary:logistic' was changed from 'error' to 'logloss'. Explicitly set eval_metric if you'd like to restore the old behavior.\n"
     ]
    }
   ],
   "source": [
    "#Use XGBoost to train the model\n",
    "from xgboost import XGBClassifier\n",
    "\n",
    "xgboostModel = XGBClassifier(n_estimators=100, learning_rate= 0.3)\n",
    "xgboostModel.fit(X_train_pca, y_train)\n",
    "predicted = xgboostModel.predict(X_test_pca)"
   ]
  },
  {
   "cell_type": "code",
   "execution_count": 40,
   "id": "Rx8CBgVc20yb",
   "metadata": {
    "colab": {
     "base_uri": "https://localhost:8080/"
    },
    "executionInfo": {
     "elapsed": 307,
     "status": "ok",
     "timestamp": 1637823080235,
     "user": {
      "displayName": "Daniel Pong",
      "photoUrl": "https://lh3.googleusercontent.com/a/default-user=s64",
      "userId": "03877663975026177201"
     },
     "user_tz": -480
    },
    "id": "Rx8CBgVc20yb",
    "outputId": "766b5c1e-172f-4d0d-bb9c-389581e67088"
   },
   "outputs": [
    {
     "name": "stdout",
     "output_type": "stream",
     "text": [
      "Report\n",
      "               precision    recall  f1-score   support\n",
      "\n",
      "           0       0.77      0.77      0.77      9598\n",
      "           1       0.77      0.77      0.77      9529\n",
      "\n",
      "    accuracy                           0.77     19127\n",
      "   macro avg       0.77      0.77      0.77     19127\n",
      "weighted avg       0.77      0.77      0.77     19127\n",
      "\n"
     ]
    }
   ],
   "source": [
    "print(f\"Report\\n {classification_report(y_test,predicted)}\")"
   ]
  },
  {
   "cell_type": "code",
   "execution_count": null,
   "id": "cd55b5fd",
   "metadata": {},
   "outputs": [],
   "source": []
  },
  {
   "cell_type": "code",
   "execution_count": 44,
   "id": "7xNhSmdkgIpy",
   "metadata": {
    "colab": {
     "base_uri": "https://localhost:8080/"
    },
    "executionInfo": {
     "elapsed": 2002,
     "status": "ok",
     "timestamp": 1637823102585,
     "user": {
      "displayName": "Daniel Pong",
      "photoUrl": "https://lh3.googleusercontent.com/a/default-user=s64",
      "userId": "03877663975026177201"
     },
     "user_tz": -480
    },
    "id": "7xNhSmdkgIpy",
    "outputId": "a47d9aa7-813c-4810-cbc5-8a069b9d83b8"
   },
   "outputs": [
    {
     "data": {
      "text/plain": [
       "0.8570441552050527"
      ]
     },
     "execution_count": 44,
     "metadata": {},
     "output_type": "execute_result"
    }
   ],
   "source": [
    "#Use LightGBM to train the model\n",
    "from lightgbm import LGBMClassifier\n",
    "model = LGBMClassifier()\n",
    "model.fit(X_train_pca, y_train)\n",
    "\n",
    "y_pred = model.predict(X_test_pca)\n",
    "y_pred_proba = model.predict_proba(X_test_pca)\n",
    "\n",
    "from sklearn.metrics import roc_auc_score\n",
    "LightGBM_score = roc_auc_score(y_test, y_pred_proba[:,1])\n",
    "LightGBM_score"
   ]
  },
  {
   "cell_type": "code",
   "execution_count": 45,
   "id": "yw571O1ZguGq",
   "metadata": {
    "colab": {
     "base_uri": "https://localhost:8080/"
    },
    "executionInfo": {
     "elapsed": 306,
     "status": "ok",
     "timestamp": 1637823113741,
     "user": {
      "displayName": "Daniel Pong",
      "photoUrl": "https://lh3.googleusercontent.com/a/default-user=s64",
      "userId": "03877663975026177201"
     },
     "user_tz": -480
    },
    "id": "yw571O1ZguGq",
    "outputId": "dad343d1-17b1-48e8-dc85-11f8d7346c39"
   },
   "outputs": [
    {
     "name": "stdout",
     "output_type": "stream",
     "text": [
      "Report\n",
      "               precision    recall  f1-score   support\n",
      "\n",
      "           0       0.77      0.78      0.78      9598\n",
      "           1       0.78      0.77      0.77      9529\n",
      "\n",
      "    accuracy                           0.77     19127\n",
      "   macro avg       0.77      0.77      0.77     19127\n",
      "weighted avg       0.77      0.77      0.77     19127\n",
      "\n"
     ]
    }
   ],
   "source": [
    "print(f\"Report\\n {classification_report(y_test,y_pred)}\")"
   ]
  },
  {
   "cell_type": "code",
   "execution_count": 49,
   "id": "aTpUJsFv3WcZ",
   "metadata": {
    "id": "aTpUJsFv3WcZ"
   },
   "outputs": [
    {
     "data": {
      "image/png": "[encoded data removed]",
      "text/plain": [
       "<Figure size 432x288 with 1 Axes>"
      ]
     },
     "metadata": {
      "needs_background": "light"
     },
     "output_type": "display_data"
    }
   ],
   "source": [
    "from sklearn import metrics\n",
    "from sklearn.metrics import roc_curve\n",
    "fpr, tpr, thres = roc_curve(y_test.values, y_pred_proba[:,1])\n",
    "import matplotlib.pyplot as plt\n",
    "plt.plot(fpr, tpr)\n",
    "plt.show()"
   ]
  },
  {
   "cell_type": "code",
   "execution_count": null,
   "id": "fb54eadd",
   "metadata": {},
   "outputs": [],
   "source": []
  }
 ],
 "metadata": {
  "colab": {
   "collapsed_sections": [],
   "name": "weatherAUS_Downsample.ipynb",
   "provenance": []
  },
  "kernelspec": {
   "display_name": "Python 3",
   "language": "python",
   "name": "python3"
  },
  "language_info": {
   "codemirror_mode": {
    "name": "ipython",
    "version": 3
   },
   "file_extension": ".py",
   "mimetype": "text/x-python",
   "name": "python",
   "nbconvert_exporter": "python",
   "pygments_lexer": "ipython3",
   "version": "3.8.8"
  }
 },
 "nbformat": 4,
 "nbformat_minor": 5
}
